{
 "cells": [
  {
   "cell_type": "code",
   "execution_count": 190,
   "id": "f416b3a4",
   "metadata": {},
   "outputs": [],
   "source": [
    "# Libraries\n",
    "\n",
    "# EDA \n",
    "import numpy as np\n",
    "import  pandas as pd\n",
    "import matplotlib.pyplot as plt\n",
    "import seaborn as sns\n",
    "import plotly.express as px\n",
    "\n",
    "# -Pre-Processing \n",
    "from sklearn.impute import SimpleImputer\n",
    "from sklearn.compose import ColumnTransformer\n",
    "from sklearn.preprocessing import OrdinalEncoder, LabelEncoder\n",
    "\n",
    "# -Model Selection\n",
    "from sklearn.model_selection import train_test_split\n",
    "\n",
    "\n",
    "# -Algorithms\n",
    "from sklearn.linear_model import LogisticRegression\n",
    "from sklearn.neighbors import KNeighborsClassifier\n",
    "from sklearn.tree import DecisionTreeClassifier\n",
    "from sklearn.ensemble import RandomForestClassifier\n",
    "from sklearn.svm import SVC\n",
    "\n",
    "# Model validation\n",
    "from sklearn.model_selection import cross_validate\n",
    "from sklearn.model_selection import learning_curve \n",
    "\n",
    "#Hyper-parameter Hyper-parameter\n",
    "from sklearn.model_selection import GridSearchCV\n",
    "\n",
    "# -Metrics\n",
    "from sklearn.metrics import ConfusionMatrixDisplay, confusion_matrix, classification_report\n",
    "\n",
    "%matplotlib inline"
   ]
  },
  {
   "cell_type": "code",
   "execution_count": 191,
   "id": "132ce23c",
   "metadata": {},
   "outputs": [],
   "source": [
    "\n",
    "#Import of very relevant data \n",
    "\n",
    "course_ratings = pd.read_csv('365_database/365_course_ratings.csv')\n",
    "\n",
    "student_info = pd.read_csv('365_database/365_student_info.csv')\n",
    "\n",
    "student_learning = pd.read_csv('365_database/365_student_learning.csv')\n",
    "\n",
    "student_purchases = pd.read_csv('365_database/365_student_purchases.csv')\n",
    "\n",
    "# Less relevant data\n",
    "\n",
    "#course_info = pd.read_csv('365_database/365_course_info.csv')\n",
    "\n",
    "#exam_info = pd.read_csv('365_database/365_exam_info.csv')\n",
    "\n",
    "#quiz_info = pd.read_csv('365_database/365_quiz_info.csv')\n",
    "\n",
    "#student_engagement = pd.read_csv('365_database/365_student_engagement.csv')\n",
    "\n",
    "#student_exams = pd.read_csv('365_database/365_student_exams.csv')\n",
    "\n",
    "#student_hub_questions = pd.read_csv('365_database/365_student_hub_questions.csv')\n",
    "\n",
    "#student_quizzes =pd.read_csv('365_database/365_student_quizzes.csv')\n"
   ]
  },
  {
   "cell_type": "markdown",
   "id": "cc2f0896",
   "metadata": {},
   "source": [
    "# Work process :"
   ]
  },
  {
   "cell_type": "markdown",
   "id": "d17628d2",
   "metadata": {},
   "source": [
    "<ol>\n",
    "    <li>\n",
    "        Dataset preparation and preprocessing\n",
    "        <ul>\n",
    "            <li>Data collection</li>\n",
    "            <li>Data visualization</li>\n",
    "            <li>Data selection</li>\n",
    "            <li>Dataset splitting</li>\n",
    "            <li>Data Cleaning</li>\n",
    "            <li>Data formatting</li>\n",
    "            <li>Data Scaling</li>\n",
    "        </ul>\n",
    "    </li>\n",
    "    <li>Modeling and Validation</li>\n",
    "    <li>Evaluating the model using  test set</li>\n",
    "</ol>"
   ]
  },
  {
   "cell_type": "markdown",
   "id": "73cf66f5",
   "metadata": {},
   "source": [
    "# Dataset preparation and preprocessing"
   ]
  },
  {
   "cell_type": "markdown",
   "id": "899266e5",
   "metadata": {},
   "source": [
    "## Data Collection"
   ]
  },
  {
   "cell_type": "code",
   "execution_count": 192,
   "id": "926b401d",
   "metadata": {},
   "outputs": [],
   "source": [
    "# A glance at the various data"
   ]
  },
  {
   "cell_type": "code",
   "execution_count": 193,
   "id": "c8389e60",
   "metadata": {},
   "outputs": [
    {
     "data": {
      "text/html": [
       "<div>\n",
       "<style scoped>\n",
       "    .dataframe tbody tr th:only-of-type {\n",
       "        vertical-align: middle;\n",
       "    }\n",
       "\n",
       "    .dataframe tbody tr th {\n",
       "        vertical-align: top;\n",
       "    }\n",
       "\n",
       "    .dataframe thead th {\n",
       "        text-align: right;\n",
       "    }\n",
       "</style>\n",
       "<table border=\"1\" class=\"dataframe\">\n",
       "  <thead>\n",
       "    <tr style=\"text-align: right;\">\n",
       "      <th></th>\n",
       "      <th>course_id</th>\n",
       "      <th>student_id</th>\n",
       "      <th>course_rating</th>\n",
       "      <th>date_rated</th>\n",
       "    </tr>\n",
       "  </thead>\n",
       "  <tbody>\n",
       "    <tr>\n",
       "      <th>0</th>\n",
       "      <td>14</td>\n",
       "      <td>258956</td>\n",
       "      <td>5</td>\n",
       "      <td>2022-07-06</td>\n",
       "    </tr>\n",
       "    <tr>\n",
       "      <th>1</th>\n",
       "      <td>7</td>\n",
       "      <td>259019</td>\n",
       "      <td>5</td>\n",
       "      <td>2022-08-30</td>\n",
       "    </tr>\n",
       "    <tr>\n",
       "      <th>2</th>\n",
       "      <td>23</td>\n",
       "      <td>259019</td>\n",
       "      <td>4</td>\n",
       "      <td>2022-08-30</td>\n",
       "    </tr>\n",
       "    <tr>\n",
       "      <th>3</th>\n",
       "      <td>14</td>\n",
       "      <td>259283</td>\n",
       "      <td>5</td>\n",
       "      <td>2022-07-08</td>\n",
       "    </tr>\n",
       "    <tr>\n",
       "      <th>4</th>\n",
       "      <td>30</td>\n",
       "      <td>259283</td>\n",
       "      <td>5</td>\n",
       "      <td>2022-07-02</td>\n",
       "    </tr>\n",
       "  </tbody>\n",
       "</table>\n",
       "</div>"
      ],
      "text/plain": [
       "   course_id  student_id  course_rating  date_rated\n",
       "0         14      258956              5  2022-07-06\n",
       "1          7      259019              5  2022-08-30\n",
       "2         23      259019              4  2022-08-30\n",
       "3         14      259283              5  2022-07-08\n",
       "4         30      259283              5  2022-07-02"
      ]
     },
     "execution_count": 193,
     "metadata": {},
     "output_type": "execute_result"
    }
   ],
   "source": [
    "course_ratings.head()"
   ]
  },
  {
   "cell_type": "code",
   "execution_count": 194,
   "id": "a46c2626",
   "metadata": {},
   "outputs": [
    {
     "data": {
      "text/html": [
       "<div>\n",
       "<style scoped>\n",
       "    .dataframe tbody tr th:only-of-type {\n",
       "        vertical-align: middle;\n",
       "    }\n",
       "\n",
       "    .dataframe tbody tr th {\n",
       "        vertical-align: top;\n",
       "    }\n",
       "\n",
       "    .dataframe thead th {\n",
       "        text-align: right;\n",
       "    }\n",
       "</style>\n",
       "<table border=\"1\" class=\"dataframe\">\n",
       "  <thead>\n",
       "    <tr style=\"text-align: right;\">\n",
       "      <th></th>\n",
       "      <th>student_id</th>\n",
       "      <th>student_country</th>\n",
       "      <th>date_registered</th>\n",
       "    </tr>\n",
       "  </thead>\n",
       "  <tbody>\n",
       "    <tr>\n",
       "      <th>0</th>\n",
       "      <td>258798</td>\n",
       "      <td>IN</td>\n",
       "      <td>2022-01-01</td>\n",
       "    </tr>\n",
       "    <tr>\n",
       "      <th>1</th>\n",
       "      <td>258799</td>\n",
       "      <td>CO</td>\n",
       "      <td>2022-01-01</td>\n",
       "    </tr>\n",
       "    <tr>\n",
       "      <th>2</th>\n",
       "      <td>258800</td>\n",
       "      <td>CA</td>\n",
       "      <td>2022-01-01</td>\n",
       "    </tr>\n",
       "    <tr>\n",
       "      <th>3</th>\n",
       "      <td>258801</td>\n",
       "      <td>IN</td>\n",
       "      <td>2022-01-01</td>\n",
       "    </tr>\n",
       "    <tr>\n",
       "      <th>4</th>\n",
       "      <td>258802</td>\n",
       "      <td>US</td>\n",
       "      <td>2022-01-01</td>\n",
       "    </tr>\n",
       "  </tbody>\n",
       "</table>\n",
       "</div>"
      ],
      "text/plain": [
       "   student_id student_country date_registered\n",
       "0      258798              IN      2022-01-01\n",
       "1      258799              CO      2022-01-01\n",
       "2      258800              CA      2022-01-01\n",
       "3      258801              IN      2022-01-01\n",
       "4      258802              US      2022-01-01"
      ]
     },
     "execution_count": 194,
     "metadata": {},
     "output_type": "execute_result"
    }
   ],
   "source": [
    "student_info.head()"
   ]
  },
  {
   "cell_type": "code",
   "execution_count": 195,
   "id": "d99e9ee2",
   "metadata": {},
   "outputs": [
    {
     "data": {
      "text/html": [
       "<div>\n",
       "<style scoped>\n",
       "    .dataframe tbody tr th:only-of-type {\n",
       "        vertical-align: middle;\n",
       "    }\n",
       "\n",
       "    .dataframe tbody tr th {\n",
       "        vertical-align: top;\n",
       "    }\n",
       "\n",
       "    .dataframe thead th {\n",
       "        text-align: right;\n",
       "    }\n",
       "</style>\n",
       "<table border=\"1\" class=\"dataframe\">\n",
       "  <thead>\n",
       "    <tr style=\"text-align: right;\">\n",
       "      <th></th>\n",
       "      <th>student_id</th>\n",
       "      <th>course_id</th>\n",
       "      <th>minutes_watched</th>\n",
       "      <th>date_watched</th>\n",
       "    </tr>\n",
       "  </thead>\n",
       "  <tbody>\n",
       "    <tr>\n",
       "      <th>0</th>\n",
       "      <td>258798</td>\n",
       "      <td>23</td>\n",
       "      <td>0.3</td>\n",
       "      <td>2022-01-01</td>\n",
       "    </tr>\n",
       "    <tr>\n",
       "      <th>1</th>\n",
       "      <td>258800</td>\n",
       "      <td>2</td>\n",
       "      <td>12.9</td>\n",
       "      <td>2022-04-01</td>\n",
       "    </tr>\n",
       "    <tr>\n",
       "      <th>2</th>\n",
       "      <td>258800</td>\n",
       "      <td>7</td>\n",
       "      <td>46.8</td>\n",
       "      <td>2022-01-03</td>\n",
       "    </tr>\n",
       "    <tr>\n",
       "      <th>3</th>\n",
       "      <td>258800</td>\n",
       "      <td>7</td>\n",
       "      <td>4.3</td>\n",
       "      <td>2022-01-04</td>\n",
       "    </tr>\n",
       "    <tr>\n",
       "      <th>4</th>\n",
       "      <td>258800</td>\n",
       "      <td>7</td>\n",
       "      <td>31.7</td>\n",
       "      <td>2022-01-07</td>\n",
       "    </tr>\n",
       "  </tbody>\n",
       "</table>\n",
       "</div>"
      ],
      "text/plain": [
       "   student_id  course_id  minutes_watched date_watched\n",
       "0      258798         23              0.3   2022-01-01\n",
       "1      258800          2             12.9   2022-04-01\n",
       "2      258800          7             46.8   2022-01-03\n",
       "3      258800          7              4.3   2022-01-04\n",
       "4      258800          7             31.7   2022-01-07"
      ]
     },
     "execution_count": 195,
     "metadata": {},
     "output_type": "execute_result"
    }
   ],
   "source": [
    "student_learning.head()"
   ]
  },
  {
   "cell_type": "code",
   "execution_count": 196,
   "id": "c89d7cef",
   "metadata": {},
   "outputs": [
    {
     "data": {
      "text/html": [
       "<div>\n",
       "<style scoped>\n",
       "    .dataframe tbody tr th:only-of-type {\n",
       "        vertical-align: middle;\n",
       "    }\n",
       "\n",
       "    .dataframe tbody tr th {\n",
       "        vertical-align: top;\n",
       "    }\n",
       "\n",
       "    .dataframe thead th {\n",
       "        text-align: right;\n",
       "    }\n",
       "</style>\n",
       "<table border=\"1\" class=\"dataframe\">\n",
       "  <thead>\n",
       "    <tr style=\"text-align: right;\">\n",
       "      <th></th>\n",
       "      <th>purchase_id</th>\n",
       "      <th>student_id</th>\n",
       "      <th>purchase_type</th>\n",
       "      <th>date_purchased</th>\n",
       "    </tr>\n",
       "  </thead>\n",
       "  <tbody>\n",
       "    <tr>\n",
       "      <th>0</th>\n",
       "      <td>15781</td>\n",
       "      <td>258800</td>\n",
       "      <td>Annual</td>\n",
       "      <td>2022-01-01</td>\n",
       "    </tr>\n",
       "    <tr>\n",
       "      <th>1</th>\n",
       "      <td>15786</td>\n",
       "      <td>258803</td>\n",
       "      <td>Annual</td>\n",
       "      <td>2022-01-01</td>\n",
       "    </tr>\n",
       "    <tr>\n",
       "      <th>2</th>\n",
       "      <td>15808</td>\n",
       "      <td>258862</td>\n",
       "      <td>Annual</td>\n",
       "      <td>2022-01-01</td>\n",
       "    </tr>\n",
       "    <tr>\n",
       "      <th>3</th>\n",
       "      <td>15809</td>\n",
       "      <td>258865</td>\n",
       "      <td>Annual</td>\n",
       "      <td>2022-01-01</td>\n",
       "    </tr>\n",
       "    <tr>\n",
       "      <th>4</th>\n",
       "      <td>15811</td>\n",
       "      <td>258878</td>\n",
       "      <td>Annual</td>\n",
       "      <td>2022-01-01</td>\n",
       "    </tr>\n",
       "  </tbody>\n",
       "</table>\n",
       "</div>"
      ],
      "text/plain": [
       "   purchase_id  student_id purchase_type date_purchased\n",
       "0        15781      258800        Annual     2022-01-01\n",
       "1        15786      258803        Annual     2022-01-01\n",
       "2        15808      258862        Annual     2022-01-01\n",
       "3        15809      258865        Annual     2022-01-01\n",
       "4        15811      258878        Annual     2022-01-01"
      ]
     },
     "execution_count": 196,
     "metadata": {},
     "output_type": "execute_result"
    }
   ],
   "source": [
    "student_purchases.head()"
   ]
  },
  {
   "cell_type": "code",
   "execution_count": 197,
   "id": "c49f1c75",
   "metadata": {},
   "outputs": [],
   "source": [
    "# Merge differents data to build a data set "
   ]
  },
  {
   "cell_type": "code",
   "execution_count": 279,
   "id": "38dbfc94",
   "metadata": {},
   "outputs": [],
   "source": [
    "df = pd.merge(student_learning, student_purchases, how='left', on='student_id').merge(student_info, how='left', on='student_id').merge(course_ratings, how='left', on=['student_id', 'course_id'])"
   ]
  },
  {
   "cell_type": "code",
   "execution_count": 199,
   "id": "ccb7625f",
   "metadata": {
    "scrolled": true
   },
   "outputs": [
    {
     "data": {
      "text/html": [
       "<div>\n",
       "<style scoped>\n",
       "    .dataframe tbody tr th:only-of-type {\n",
       "        vertical-align: middle;\n",
       "    }\n",
       "\n",
       "    .dataframe tbody tr th {\n",
       "        vertical-align: top;\n",
       "    }\n",
       "\n",
       "    .dataframe thead th {\n",
       "        text-align: right;\n",
       "    }\n",
       "</style>\n",
       "<table border=\"1\" class=\"dataframe\">\n",
       "  <thead>\n",
       "    <tr style=\"text-align: right;\">\n",
       "      <th></th>\n",
       "      <th>student_id</th>\n",
       "      <th>course_id</th>\n",
       "      <th>minutes_watched</th>\n",
       "      <th>date_watched</th>\n",
       "      <th>purchase_id</th>\n",
       "      <th>purchase_type</th>\n",
       "      <th>date_purchased</th>\n",
       "      <th>student_country</th>\n",
       "      <th>date_registered</th>\n",
       "      <th>course_rating</th>\n",
       "      <th>date_rated</th>\n",
       "    </tr>\n",
       "  </thead>\n",
       "  <tbody>\n",
       "    <tr>\n",
       "      <th>0</th>\n",
       "      <td>258798</td>\n",
       "      <td>23</td>\n",
       "      <td>0.3</td>\n",
       "      <td>2022-01-01</td>\n",
       "      <td>NaN</td>\n",
       "      <td>NaN</td>\n",
       "      <td>NaN</td>\n",
       "      <td>IN</td>\n",
       "      <td>2022-01-01</td>\n",
       "      <td>NaN</td>\n",
       "      <td>NaN</td>\n",
       "    </tr>\n",
       "    <tr>\n",
       "      <th>1</th>\n",
       "      <td>258800</td>\n",
       "      <td>2</td>\n",
       "      <td>12.9</td>\n",
       "      <td>2022-04-01</td>\n",
       "      <td>15781.0</td>\n",
       "      <td>Annual</td>\n",
       "      <td>2022-01-01</td>\n",
       "      <td>CA</td>\n",
       "      <td>2022-01-01</td>\n",
       "      <td>NaN</td>\n",
       "      <td>NaN</td>\n",
       "    </tr>\n",
       "    <tr>\n",
       "      <th>2</th>\n",
       "      <td>258800</td>\n",
       "      <td>7</td>\n",
       "      <td>46.8</td>\n",
       "      <td>2022-01-03</td>\n",
       "      <td>15781.0</td>\n",
       "      <td>Annual</td>\n",
       "      <td>2022-01-01</td>\n",
       "      <td>CA</td>\n",
       "      <td>2022-01-01</td>\n",
       "      <td>NaN</td>\n",
       "      <td>NaN</td>\n",
       "    </tr>\n",
       "    <tr>\n",
       "      <th>3</th>\n",
       "      <td>258800</td>\n",
       "      <td>7</td>\n",
       "      <td>4.3</td>\n",
       "      <td>2022-01-04</td>\n",
       "      <td>15781.0</td>\n",
       "      <td>Annual</td>\n",
       "      <td>2022-01-01</td>\n",
       "      <td>CA</td>\n",
       "      <td>2022-01-01</td>\n",
       "      <td>NaN</td>\n",
       "      <td>NaN</td>\n",
       "    </tr>\n",
       "    <tr>\n",
       "      <th>4</th>\n",
       "      <td>258800</td>\n",
       "      <td>7</td>\n",
       "      <td>31.7</td>\n",
       "      <td>2022-01-07</td>\n",
       "      <td>15781.0</td>\n",
       "      <td>Annual</td>\n",
       "      <td>2022-01-01</td>\n",
       "      <td>CA</td>\n",
       "      <td>2022-01-01</td>\n",
       "      <td>NaN</td>\n",
       "      <td>NaN</td>\n",
       "    </tr>\n",
       "  </tbody>\n",
       "</table>\n",
       "</div>"
      ],
      "text/plain": [
       "   student_id  course_id  minutes_watched date_watched  purchase_id  \\\n",
       "0      258798         23              0.3   2022-01-01          NaN   \n",
       "1      258800          2             12.9   2022-04-01      15781.0   \n",
       "2      258800          7             46.8   2022-01-03      15781.0   \n",
       "3      258800          7              4.3   2022-01-04      15781.0   \n",
       "4      258800          7             31.7   2022-01-07      15781.0   \n",
       "\n",
       "  purchase_type date_purchased student_country date_registered  course_rating  \\\n",
       "0           NaN            NaN              IN      2022-01-01            NaN   \n",
       "1        Annual     2022-01-01              CA      2022-01-01            NaN   \n",
       "2        Annual     2022-01-01              CA      2022-01-01            NaN   \n",
       "3        Annual     2022-01-01              CA      2022-01-01            NaN   \n",
       "4        Annual     2022-01-01              CA      2022-01-01            NaN   \n",
       "\n",
       "  date_rated  \n",
       "0        NaN  \n",
       "1        NaN  \n",
       "2        NaN  \n",
       "3        NaN  \n",
       "4        NaN  "
      ]
     },
     "execution_count": 199,
     "metadata": {},
     "output_type": "execute_result"
    }
   ],
   "source": [
    "df.head()"
   ]
  },
  {
   "cell_type": "code",
   "execution_count": 280,
   "id": "c3dee25a",
   "metadata": {},
   "outputs": [],
   "source": [
    "#Converte date_registered, date_watched,date_purchased to date time\n",
    "cols = ['date_registered', 'date_watched', 'date_purchased']\n",
    "for i in cols:\n",
    "    df[i] = pd.to_datetime(df[i])"
   ]
  },
  {
   "cell_type": "code",
   "execution_count": 281,
   "id": "2897f4b4",
   "metadata": {},
   "outputs": [],
   "source": [
    "df['purchase'] = df['purchase_type']\n",
    "\n",
    "df.drop('purchase_type', axis=1, inplace=True)\n",
    "\n",
    "dic = {'Annual':1, 'Monthly':1, 'Quarterly': 1, np.nan: 0}\n",
    "\n",
    "df['purchase'] = df['purchase'].map(dic)\n",
    "\n",
    "df['purchase'] = df['purchase'].astype('int')"
   ]
  },
  {
   "cell_type": "code",
   "execution_count": 282,
   "id": "2ff80863",
   "metadata": {},
   "outputs": [
    {
     "data": {
      "text/html": [
       "<div>\n",
       "<style scoped>\n",
       "    .dataframe tbody tr th:only-of-type {\n",
       "        vertical-align: middle;\n",
       "    }\n",
       "\n",
       "    .dataframe tbody tr th {\n",
       "        vertical-align: top;\n",
       "    }\n",
       "\n",
       "    .dataframe thead th {\n",
       "        text-align: right;\n",
       "    }\n",
       "</style>\n",
       "<table border=\"1\" class=\"dataframe\">\n",
       "  <thead>\n",
       "    <tr style=\"text-align: right;\">\n",
       "      <th></th>\n",
       "      <th>student_id</th>\n",
       "      <th>course_id</th>\n",
       "      <th>minutes_watched</th>\n",
       "      <th>date_watched</th>\n",
       "      <th>purchase_id</th>\n",
       "      <th>date_purchased</th>\n",
       "      <th>student_country</th>\n",
       "      <th>date_registered</th>\n",
       "      <th>course_rating</th>\n",
       "      <th>date_rated</th>\n",
       "      <th>purchase</th>\n",
       "    </tr>\n",
       "  </thead>\n",
       "  <tbody>\n",
       "    <tr>\n",
       "      <th>0</th>\n",
       "      <td>258798</td>\n",
       "      <td>23</td>\n",
       "      <td>0.3</td>\n",
       "      <td>2022-01-01</td>\n",
       "      <td>NaN</td>\n",
       "      <td>NaT</td>\n",
       "      <td>IN</td>\n",
       "      <td>2022-01-01</td>\n",
       "      <td>NaN</td>\n",
       "      <td>NaN</td>\n",
       "      <td>0</td>\n",
       "    </tr>\n",
       "    <tr>\n",
       "      <th>1</th>\n",
       "      <td>258800</td>\n",
       "      <td>2</td>\n",
       "      <td>12.9</td>\n",
       "      <td>2022-04-01</td>\n",
       "      <td>15781.0</td>\n",
       "      <td>2022-01-01</td>\n",
       "      <td>CA</td>\n",
       "      <td>2022-01-01</td>\n",
       "      <td>NaN</td>\n",
       "      <td>NaN</td>\n",
       "      <td>1</td>\n",
       "    </tr>\n",
       "    <tr>\n",
       "      <th>2</th>\n",
       "      <td>258800</td>\n",
       "      <td>7</td>\n",
       "      <td>46.8</td>\n",
       "      <td>2022-01-03</td>\n",
       "      <td>15781.0</td>\n",
       "      <td>2022-01-01</td>\n",
       "      <td>CA</td>\n",
       "      <td>2022-01-01</td>\n",
       "      <td>NaN</td>\n",
       "      <td>NaN</td>\n",
       "      <td>1</td>\n",
       "    </tr>\n",
       "    <tr>\n",
       "      <th>3</th>\n",
       "      <td>258800</td>\n",
       "      <td>7</td>\n",
       "      <td>4.3</td>\n",
       "      <td>2022-01-04</td>\n",
       "      <td>15781.0</td>\n",
       "      <td>2022-01-01</td>\n",
       "      <td>CA</td>\n",
       "      <td>2022-01-01</td>\n",
       "      <td>NaN</td>\n",
       "      <td>NaN</td>\n",
       "      <td>1</td>\n",
       "    </tr>\n",
       "    <tr>\n",
       "      <th>4</th>\n",
       "      <td>258800</td>\n",
       "      <td>7</td>\n",
       "      <td>31.7</td>\n",
       "      <td>2022-01-07</td>\n",
       "      <td>15781.0</td>\n",
       "      <td>2022-01-01</td>\n",
       "      <td>CA</td>\n",
       "      <td>2022-01-01</td>\n",
       "      <td>NaN</td>\n",
       "      <td>NaN</td>\n",
       "      <td>1</td>\n",
       "    </tr>\n",
       "    <tr>\n",
       "      <th>5</th>\n",
       "      <td>258800</td>\n",
       "      <td>7</td>\n",
       "      <td>61.6</td>\n",
       "      <td>2022-01-05</td>\n",
       "      <td>15781.0</td>\n",
       "      <td>2022-01-01</td>\n",
       "      <td>CA</td>\n",
       "      <td>2022-01-01</td>\n",
       "      <td>NaN</td>\n",
       "      <td>NaN</td>\n",
       "      <td>1</td>\n",
       "    </tr>\n",
       "    <tr>\n",
       "      <th>6</th>\n",
       "      <td>258800</td>\n",
       "      <td>7</td>\n",
       "      <td>45.1</td>\n",
       "      <td>2022-01-06</td>\n",
       "      <td>15781.0</td>\n",
       "      <td>2022-01-01</td>\n",
       "      <td>CA</td>\n",
       "      <td>2022-01-01</td>\n",
       "      <td>NaN</td>\n",
       "      <td>NaN</td>\n",
       "      <td>1</td>\n",
       "    </tr>\n",
       "    <tr>\n",
       "      <th>7</th>\n",
       "      <td>258800</td>\n",
       "      <td>11</td>\n",
       "      <td>0.5</td>\n",
       "      <td>2022-02-21</td>\n",
       "      <td>15781.0</td>\n",
       "      <td>2022-01-01</td>\n",
       "      <td>CA</td>\n",
       "      <td>2022-01-01</td>\n",
       "      <td>NaN</td>\n",
       "      <td>NaN</td>\n",
       "      <td>1</td>\n",
       "    </tr>\n",
       "    <tr>\n",
       "      <th>8</th>\n",
       "      <td>258800</td>\n",
       "      <td>11</td>\n",
       "      <td>1.1</td>\n",
       "      <td>2022-02-22</td>\n",
       "      <td>15781.0</td>\n",
       "      <td>2022-01-01</td>\n",
       "      <td>CA</td>\n",
       "      <td>2022-01-01</td>\n",
       "      <td>NaN</td>\n",
       "      <td>NaN</td>\n",
       "      <td>1</td>\n",
       "    </tr>\n",
       "    <tr>\n",
       "      <th>9</th>\n",
       "      <td>258800</td>\n",
       "      <td>14</td>\n",
       "      <td>4.0</td>\n",
       "      <td>2022-01-28</td>\n",
       "      <td>15781.0</td>\n",
       "      <td>2022-01-01</td>\n",
       "      <td>CA</td>\n",
       "      <td>2022-01-01</td>\n",
       "      <td>NaN</td>\n",
       "      <td>NaN</td>\n",
       "      <td>1</td>\n",
       "    </tr>\n",
       "  </tbody>\n",
       "</table>\n",
       "</div>"
      ],
      "text/plain": [
       "   student_id  course_id  minutes_watched date_watched  purchase_id  \\\n",
       "0      258798         23              0.3   2022-01-01          NaN   \n",
       "1      258800          2             12.9   2022-04-01      15781.0   \n",
       "2      258800          7             46.8   2022-01-03      15781.0   \n",
       "3      258800          7              4.3   2022-01-04      15781.0   \n",
       "4      258800          7             31.7   2022-01-07      15781.0   \n",
       "5      258800          7             61.6   2022-01-05      15781.0   \n",
       "6      258800          7             45.1   2022-01-06      15781.0   \n",
       "7      258800         11              0.5   2022-02-21      15781.0   \n",
       "8      258800         11              1.1   2022-02-22      15781.0   \n",
       "9      258800         14              4.0   2022-01-28      15781.0   \n",
       "\n",
       "  date_purchased student_country date_registered  course_rating date_rated  \\\n",
       "0            NaT              IN      2022-01-01            NaN        NaN   \n",
       "1     2022-01-01              CA      2022-01-01            NaN        NaN   \n",
       "2     2022-01-01              CA      2022-01-01            NaN        NaN   \n",
       "3     2022-01-01              CA      2022-01-01            NaN        NaN   \n",
       "4     2022-01-01              CA      2022-01-01            NaN        NaN   \n",
       "5     2022-01-01              CA      2022-01-01            NaN        NaN   \n",
       "6     2022-01-01              CA      2022-01-01            NaN        NaN   \n",
       "7     2022-01-01              CA      2022-01-01            NaN        NaN   \n",
       "8     2022-01-01              CA      2022-01-01            NaN        NaN   \n",
       "9     2022-01-01              CA      2022-01-01            NaN        NaN   \n",
       "\n",
       "   purchase  \n",
       "0         0  \n",
       "1         1  \n",
       "2         1  \n",
       "3         1  \n",
       "4         1  \n",
       "5         1  \n",
       "6         1  \n",
       "7         1  \n",
       "8         1  \n",
       "9         1  "
      ]
     },
     "execution_count": 282,
     "metadata": {},
     "output_type": "execute_result"
    }
   ],
   "source": [
    "df.head(10)"
   ]
  },
  {
   "cell_type": "code",
   "execution_count": 203,
   "id": "941861e5",
   "metadata": {},
   "outputs": [
    {
     "data": {
      "text/plain": [
       "(87633, 11)"
      ]
     },
     "execution_count": 203,
     "metadata": {},
     "output_type": "execute_result"
    }
   ],
   "source": [
    "df.shape"
   ]
  },
  {
   "cell_type": "code",
   "execution_count": 204,
   "id": "1a25c5ff",
   "metadata": {},
   "outputs": [],
   "source": [
    "# the dataset has 87633 sample, not bad 😋 and 12 columns"
   ]
  },
  {
   "cell_type": "code",
   "execution_count": 205,
   "id": "4fe59faa",
   "metadata": {},
   "outputs": [
    {
     "data": {
      "text/plain": [
       "student_id             0\n",
       "course_id              0\n",
       "minutes_watched        0\n",
       "date_watched           0\n",
       "purchase_id        27204\n",
       "date_purchased     27204\n",
       "student_country       44\n",
       "date_registered        0\n",
       "course_rating      71054\n",
       "date_rated         71054\n",
       "purchase               0\n",
       "dtype: int64"
      ]
     },
     "execution_count": 205,
     "metadata": {},
     "output_type": "execute_result"
    }
   ],
   "source": [
    "df.isnull().sum()"
   ]
  },
  {
   "cell_type": "code",
   "execution_count": 206,
   "id": "49ac68be",
   "metadata": {},
   "outputs": [],
   "source": [
    "# A lot of missing values, this is normal due to the merge 😐"
   ]
  },
  {
   "cell_type": "code",
   "execution_count": 207,
   "id": "621c213a",
   "metadata": {},
   "outputs": [
    {
     "data": {
      "text/plain": [
       "student_id                  int64\n",
       "course_id                   int64\n",
       "minutes_watched           float64\n",
       "date_watched       datetime64[ns]\n",
       "purchase_id               float64\n",
       "date_purchased     datetime64[ns]\n",
       "student_country            object\n",
       "date_registered    datetime64[ns]\n",
       "course_rating             float64\n",
       "date_rated                 object\n",
       "purchase                    int32\n",
       "dtype: object"
      ]
     },
     "execution_count": 207,
     "metadata": {},
     "output_type": "execute_result"
    }
   ],
   "source": [
    "df.dtypes"
   ]
  },
  {
   "cell_type": "markdown",
   "id": "dd3159ba",
   "metadata": {},
   "source": [
    "##### Remarks"
   ]
  },
  {
   "cell_type": "code",
   "execution_count": 208,
   "id": "133176c2",
   "metadata": {},
   "outputs": [
    {
     "data": {
      "text/html": [
       "<div>\n",
       "<style scoped>\n",
       "    .dataframe tbody tr th:only-of-type {\n",
       "        vertical-align: middle;\n",
       "    }\n",
       "\n",
       "    .dataframe tbody tr th {\n",
       "        vertical-align: top;\n",
       "    }\n",
       "\n",
       "    .dataframe thead th {\n",
       "        text-align: right;\n",
       "    }\n",
       "</style>\n",
       "<table border=\"1\" class=\"dataframe\">\n",
       "  <thead>\n",
       "    <tr style=\"text-align: right;\">\n",
       "      <th></th>\n",
       "      <th>count</th>\n",
       "      <th>mean</th>\n",
       "      <th>std</th>\n",
       "      <th>min</th>\n",
       "      <th>25%</th>\n",
       "      <th>50%</th>\n",
       "      <th>75%</th>\n",
       "      <th>max</th>\n",
       "    </tr>\n",
       "  </thead>\n",
       "  <tbody>\n",
       "    <tr>\n",
       "      <th>student_id</th>\n",
       "      <td>87633.0</td>\n",
       "      <td>272453.644597</td>\n",
       "      <td>9934.821750</td>\n",
       "      <td>258798.0</td>\n",
       "      <td>263690.0</td>\n",
       "      <td>270486.0</td>\n",
       "      <td>280019.0</td>\n",
       "      <td>295513.0</td>\n",
       "    </tr>\n",
       "    <tr>\n",
       "      <th>course_id</th>\n",
       "      <td>87633.0</td>\n",
       "      <td>19.587941</td>\n",
       "      <td>12.274264</td>\n",
       "      <td>2.0</td>\n",
       "      <td>7.0</td>\n",
       "      <td>16.0</td>\n",
       "      <td>24.0</td>\n",
       "      <td>67.0</td>\n",
       "    </tr>\n",
       "    <tr>\n",
       "      <th>minutes_watched</th>\n",
       "      <td>87633.0</td>\n",
       "      <td>31.387779</td>\n",
       "      <td>41.174484</td>\n",
       "      <td>0.0</td>\n",
       "      <td>5.4</td>\n",
       "      <td>18.9</td>\n",
       "      <td>42.2</td>\n",
       "      <td>1710.6</td>\n",
       "    </tr>\n",
       "    <tr>\n",
       "      <th>purchase_id</th>\n",
       "      <td>60429.0</td>\n",
       "      <td>19469.821112</td>\n",
       "      <td>2054.504091</td>\n",
       "      <td>15781.0</td>\n",
       "      <td>17677.0</td>\n",
       "      <td>19504.0</td>\n",
       "      <td>21243.0</td>\n",
       "      <td>23152.0</td>\n",
       "    </tr>\n",
       "    <tr>\n",
       "      <th>course_rating</th>\n",
       "      <td>16579.0</td>\n",
       "      <td>4.795766</td>\n",
       "      <td>0.520219</td>\n",
       "      <td>1.0</td>\n",
       "      <td>5.0</td>\n",
       "      <td>5.0</td>\n",
       "      <td>5.0</td>\n",
       "      <td>5.0</td>\n",
       "    </tr>\n",
       "    <tr>\n",
       "      <th>purchase</th>\n",
       "      <td>87633.0</td>\n",
       "      <td>0.689569</td>\n",
       "      <td>0.462673</td>\n",
       "      <td>0.0</td>\n",
       "      <td>0.0</td>\n",
       "      <td>1.0</td>\n",
       "      <td>1.0</td>\n",
       "      <td>1.0</td>\n",
       "    </tr>\n",
       "  </tbody>\n",
       "</table>\n",
       "</div>"
      ],
      "text/plain": [
       "                   count           mean          std       min       25%  \\\n",
       "student_id       87633.0  272453.644597  9934.821750  258798.0  263690.0   \n",
       "course_id        87633.0      19.587941    12.274264       2.0       7.0   \n",
       "minutes_watched  87633.0      31.387779    41.174484       0.0       5.4   \n",
       "purchase_id      60429.0   19469.821112  2054.504091   15781.0   17677.0   \n",
       "course_rating    16579.0       4.795766     0.520219       1.0       5.0   \n",
       "purchase         87633.0       0.689569     0.462673       0.0       0.0   \n",
       "\n",
       "                      50%       75%       max  \n",
       "student_id       270486.0  280019.0  295513.0  \n",
       "course_id            16.0      24.0      67.0  \n",
       "minutes_watched      18.9      42.2    1710.6  \n",
       "purchase_id       19504.0   21243.0   23152.0  \n",
       "course_rating         5.0       5.0       5.0  \n",
       "purchase              1.0       1.0       1.0  "
      ]
     },
     "execution_count": 208,
     "metadata": {},
     "output_type": "execute_result"
    }
   ],
   "source": [
    "df.describe().T"
   ]
  },
  {
   "cell_type": "markdown",
   "id": "1351dc63",
   "metadata": {},
   "source": [
    "##### Remarks"
   ]
  },
  {
   "cell_type": "markdown",
   "id": "77cef453",
   "metadata": {},
   "source": [
    "- Minutes watched \n",
    "    *50% of students watched videos of more than 10 min\n",
    "- Rating Course\n",
    "    *Most of the students give, This is normal, since the quality of teaching is excellent"
   ]
  },
  {
   "cell_type": "markdown",
   "id": "dc0d8d21",
   "metadata": {},
   "source": [
    "## Data Visualisation"
   ]
  },
  {
   "cell_type": "code",
   "execution_count": 276,
   "id": "46c755f9",
   "metadata": {},
   "outputs": [
    {
     "data": {
      "text/plain": [
       "pandas.core.series.Series"
      ]
     },
     "execution_count": 276,
     "metadata": {},
     "output_type": "execute_result"
    }
   ],
   "source": [
    "df['student_country'].value_counts()"
   ]
  },
  {
   "cell_type": "markdown",
   "id": "dc5d08be",
   "metadata": {},
   "source": [
    "## Data selection"
   ]
  },
  {
   "cell_type": "code",
   "execution_count": 286,
   "id": "6963e1b0",
   "metadata": {},
   "outputs": [],
   "source": [
    "data = df.copy()\n",
    "data = df.drop(['purchase_id', 'student_id', 'date_purchased'], axis=1)"
   ]
  },
  {
   "cell_type": "code",
   "execution_count": 287,
   "id": "75b64e3d",
   "metadata": {},
   "outputs": [
    {
     "data": {
      "text/html": [
       "<div>\n",
       "<style scoped>\n",
       "    .dataframe tbody tr th:only-of-type {\n",
       "        vertical-align: middle;\n",
       "    }\n",
       "\n",
       "    .dataframe tbody tr th {\n",
       "        vertical-align: top;\n",
       "    }\n",
       "\n",
       "    .dataframe thead th {\n",
       "        text-align: right;\n",
       "    }\n",
       "</style>\n",
       "<table border=\"1\" class=\"dataframe\">\n",
       "  <thead>\n",
       "    <tr style=\"text-align: right;\">\n",
       "      <th></th>\n",
       "      <th>course_id</th>\n",
       "      <th>minutes_watched</th>\n",
       "      <th>date_watched</th>\n",
       "      <th>student_country</th>\n",
       "      <th>date_registered</th>\n",
       "      <th>course_rating</th>\n",
       "      <th>date_rated</th>\n",
       "      <th>purchase</th>\n",
       "    </tr>\n",
       "  </thead>\n",
       "  <tbody>\n",
       "    <tr>\n",
       "      <th>0</th>\n",
       "      <td>23</td>\n",
       "      <td>0.3</td>\n",
       "      <td>2022-01-01</td>\n",
       "      <td>IN</td>\n",
       "      <td>2022-01-01</td>\n",
       "      <td>NaN</td>\n",
       "      <td>NaN</td>\n",
       "      <td>0</td>\n",
       "    </tr>\n",
       "    <tr>\n",
       "      <th>1</th>\n",
       "      <td>2</td>\n",
       "      <td>12.9</td>\n",
       "      <td>2022-04-01</td>\n",
       "      <td>CA</td>\n",
       "      <td>2022-01-01</td>\n",
       "      <td>NaN</td>\n",
       "      <td>NaN</td>\n",
       "      <td>1</td>\n",
       "    </tr>\n",
       "    <tr>\n",
       "      <th>2</th>\n",
       "      <td>7</td>\n",
       "      <td>46.8</td>\n",
       "      <td>2022-01-03</td>\n",
       "      <td>CA</td>\n",
       "      <td>2022-01-01</td>\n",
       "      <td>NaN</td>\n",
       "      <td>NaN</td>\n",
       "      <td>1</td>\n",
       "    </tr>\n",
       "    <tr>\n",
       "      <th>3</th>\n",
       "      <td>7</td>\n",
       "      <td>4.3</td>\n",
       "      <td>2022-01-04</td>\n",
       "      <td>CA</td>\n",
       "      <td>2022-01-01</td>\n",
       "      <td>NaN</td>\n",
       "      <td>NaN</td>\n",
       "      <td>1</td>\n",
       "    </tr>\n",
       "    <tr>\n",
       "      <th>4</th>\n",
       "      <td>7</td>\n",
       "      <td>31.7</td>\n",
       "      <td>2022-01-07</td>\n",
       "      <td>CA</td>\n",
       "      <td>2022-01-01</td>\n",
       "      <td>NaN</td>\n",
       "      <td>NaN</td>\n",
       "      <td>1</td>\n",
       "    </tr>\n",
       "  </tbody>\n",
       "</table>\n",
       "</div>"
      ],
      "text/plain": [
       "   course_id  minutes_watched date_watched student_country date_registered  \\\n",
       "0         23              0.3   2022-01-01              IN      2022-01-01   \n",
       "1          2             12.9   2022-04-01              CA      2022-01-01   \n",
       "2          7             46.8   2022-01-03              CA      2022-01-01   \n",
       "3          7              4.3   2022-01-04              CA      2022-01-01   \n",
       "4          7             31.7   2022-01-07              CA      2022-01-01   \n",
       "\n",
       "   course_rating date_rated  purchase  \n",
       "0            NaN        NaN         0  \n",
       "1            NaN        NaN         1  \n",
       "2            NaN        NaN         1  \n",
       "3            NaN        NaN         1  \n",
       "4            NaN        NaN         1  "
      ]
     },
     "execution_count": 287,
     "metadata": {},
     "output_type": "execute_result"
    }
   ],
   "source": [
    "data.head()"
   ]
  },
  {
   "cell_type": "code",
   "execution_count": 288,
   "id": "2e042133",
   "metadata": {},
   "outputs": [
    {
     "data": {
      "text/plain": [
       "course_id              0\n",
       "minutes_watched        0\n",
       "date_watched           0\n",
       "student_country       44\n",
       "date_registered        0\n",
       "course_rating      71054\n",
       "date_rated         71054\n",
       "purchase               0\n",
       "dtype: int64"
      ]
     },
     "execution_count": 288,
     "metadata": {},
     "output_type": "execute_result"
    }
   ],
   "source": [
    "data.isna().sum()"
   ]
  },
  {
   "cell_type": "markdown",
   "id": "b9d38240",
   "metadata": {},
   "source": [
    "## Data split"
   ]
  },
  {
   "cell_type": "code",
   "execution_count": 291,
   "id": "c476f0ec",
   "metadata": {},
   "outputs": [],
   "source": [
    "X = data.drop('purchase', axis=1)\n",
    "y = data[['purchase']]"
   ]
  },
  {
   "cell_type": "code",
   "execution_count": 293,
   "id": "136bae1b",
   "metadata": {},
   "outputs": [],
   "source": [
    "x_train, x_test, y_train, y_test = train_test_split(X, y, test_size=0.2, random_state=42, stratify=y)"
   ]
  },
  {
   "cell_type": "code",
   "execution_count": 294,
   "id": "79f13506",
   "metadata": {},
   "outputs": [
    {
     "name": "stdout",
     "output_type": "stream",
     "text": [
      "purchase\n",
      "1           0.68957\n",
      "0           0.31043\n",
      "dtype: float64 purchase\n",
      "1           0.689565\n",
      "0           0.310435\n",
      "dtype: float64\n"
     ]
    }
   ],
   "source": [
    "#check distributions\n",
    "\n",
    "print(y_train.value_counts(normalize=True), y_test.value_counts(normalize=True))"
   ]
  },
  {
   "cell_type": "markdown",
   "id": "4d603e34",
   "metadata": {},
   "source": [
    "## Cleaning "
   ]
  },
  {
   "cell_type": "markdown",
   "id": "22ba23d3",
   "metadata": {},
   "source": [
    "1 . Inpute Missing Values\n",
    "- Inpute student_country by most frequent\n",
    "- Inputer date_rated by most il same in date_registered\n",
    "- Inpute course_rating by most freqent "
   ]
  },
  {
   "cell_type": "code",
   "execution_count": 290,
   "id": "8f0ddeee",
   "metadata": {},
   "outputs": [],
   "source": [
    "#\n",
    "\n",
    "inputer_i = SimpleImputer(strategy='most_frequent')\n",
    "cols_freq = ['course_rating', 'student_country']\n",
    "\n",
    "#\n",
    "\n",
    "data['course_rating'].fillna(data['date_registered'])"
   ]
  },
  {
   "cell_type": "code",
   "execution_count": 289,
   "id": "961bc618",
   "metadata": {
    "collapsed": true
   },
   "outputs": [
    {
     "data": {
      "text/plain": [
       "0        2022-01-01 00:00:00\n",
       "1        2022-01-01 00:00:00\n",
       "2        2022-01-01 00:00:00\n",
       "3        2022-01-01 00:00:00\n",
       "4        2022-01-01 00:00:00\n",
       "                ...         \n",
       "87628    2022-10-20 00:00:00\n",
       "87629    2022-10-20 00:00:00\n",
       "87630    2022-10-20 00:00:00\n",
       "87631    2022-10-20 00:00:00\n",
       "87632    2022-10-20 00:00:00\n",
       "Name: course_rating, Length: 87633, dtype: object"
      ]
     },
     "execution_count": 289,
     "metadata": {},
     "output_type": "execute_result"
    }
   ],
   "source": [
    "for col in"
   ]
  },
  {
   "cell_type": "code",
   "execution_count": null,
   "id": "a66c9908",
   "metadata": {},
   "outputs": [],
   "source": [
    "inputer.fit_transform(data[])"
   ]
  }
 ],
 "metadata": {
  "kernelspec": {
   "display_name": "Python 3 (ipykernel)",
   "language": "python",
   "name": "python3"
  },
  "language_info": {
   "codemirror_mode": {
    "name": "ipython",
    "version": 3
   },
   "file_extension": ".py",
   "mimetype": "text/x-python",
   "name": "python",
   "nbconvert_exporter": "python",
   "pygments_lexer": "ipython3",
   "version": "3.9.12"
  }
 },
 "nbformat": 4,
 "nbformat_minor": 5
}
