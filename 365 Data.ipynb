{
 "cells": [
  {
   "cell_type": "code",
   "execution_count": null,
   "id": "f416b3a4",
   "metadata": {},
   "outputs": [],
   "source": [
    "# Libraries\n",
    "\n",
    "# EDA \n",
    "import numpy as np\n",
    "import  pandas as pd\n",
    "import matplotlib.pyplot as plt\n",
    "import seaborn as sns\n",
    "import plotly.express as px\n",
    "\n",
    "# -Pre-Processing \n",
    "from sklearn.impute import SimpleImputer\n",
    "from sklearn.compose import ColumnTransformer\n",
    "from sklearn.preprocessing import OrdinalEncoder, LabelEncoder\n",
    "\n",
    "# -Model Selection\n",
    "from sklearn.model_selection import train_test_split\n",
    "\n",
    "\n",
    "# -Algorithms\n",
    "from sklearn.linear_model import LogisticRegression\n",
    "from sklearn.neighbors import KNeighborsClassifier\n",
    "from sklearn.tree import DecisionTreeClassifier\n",
    "from sklearn.ensemble import RandomForestClassifier\n",
    "from sklearn.svm import SVC\n",
    "\n",
    "# Model validation\n",
    "from sklearn.model_selection import cross_validate\n",
    "from sklearn.model_selection import learning_curve \n",
    "\n",
    "#Hyper-parameter Hyper-parameter\n",
    "from sklearn.model_selection import GridSearchCV\n",
    "\n",
    "# -Metrics\n",
    "from sklearn.metrics import ConfusionMatrixDisplay, confusion_matrix, classification_report\n",
    "\n",
    "%matplotlib inline"
   ]
  },
  {
   "cell_type": "code",
   "execution_count": null,
   "id": "132ce23c",
   "metadata": {},
   "outputs": [],
   "source": [
    "\n",
    "#Import of very relevant data \n",
    "\n",
    "course_ratings = pd.read_csv('365_database/365_course_ratings.csv')\n",
    "\n",
    "student_info = pd.read_csv('365_database/365_student_info.csv')\n",
    "\n",
    "student_learning = pd.read_csv('365_database/365_student_learning.csv')\n",
    "\n",
    "student_purchases = pd.read_csv('365_database/365_student_purchases.csv')\n",
    "\n",
    "# Less relevant data\n",
    "\n",
    "#course_info = pd.read_csv('365_database/365_course_info.csv')\n",
    "\n",
    "#exam_info = pd.read_csv('365_database/365_exam_info.csv')\n",
    "\n",
    "#quiz_info = pd.read_csv('365_database/365_quiz_info.csv')\n",
    "\n",
    "#student_engagement = pd.read_csv('365_database/365_student_engagement.csv')\n",
    "\n",
    "#student_exams = pd.read_csv('365_database/365_student_exams.csv')\n",
    "\n",
    "#student_hub_questions = pd.read_csv('365_database/365_student_hub_questions.csv')\n",
    "\n",
    "#student_quizzes =pd.read_csv('365_database/365_student_quizzes.csv')\n"
   ]
  },
  {
   "cell_type": "markdown",
   "id": "cc2f0896",
   "metadata": {},
   "source": [
    "# Work process :"
   ]
  },
  {
   "cell_type": "markdown",
   "id": "d17628d2",
   "metadata": {},
   "source": [
    "<ol>\n",
    "    <li>\n",
    "        Dataset preparation and preprocessing\n",
    "        <ul>\n",
    "            <li>Data collection</li>\n",
    "            <li>Data visualization</li>\n",
    "            <li>Data selection</li>\n",
    "            <li>Dataset splitting</li>\n",
    "            <li>Data Cleaning</li>\n",
    "            <li>Data formatting</li>\n",
    "            <li>Data Scaling</li>\n",
    "        </ul>\n",
    "    </li>\n",
    "    <li>Modeling and Validation</li>\n",
    "    <li>Evaluating the model using  test set</li>\n",
    "</ol>"
   ]
  },
  {
   "cell_type": "markdown",
   "id": "73cf66f5",
   "metadata": {},
   "source": [
    "# Dataset preparation and preprocessing"
   ]
  },
  {
   "cell_type": "markdown",
   "id": "899266e5",
   "metadata": {},
   "source": [
    "## Data Collection"
   ]
  },
  {
   "cell_type": "code",
   "execution_count": null,
   "id": "926b401d",
   "metadata": {},
   "outputs": [],
   "source": [
    "# A glance at the various data"
   ]
  },
  {
   "cell_type": "code",
   "execution_count": null,
   "id": "c8389e60",
   "metadata": {},
   "outputs": [],
   "source": [
    "course_ratings.head()"
   ]
  },
  {
   "cell_type": "code",
   "execution_count": null,
   "id": "a46c2626",
   "metadata": {},
   "outputs": [],
   "source": [
    "student_info.head()"
   ]
  },
  {
   "cell_type": "code",
   "execution_count": null,
   "id": "d99e9ee2",
   "metadata": {},
   "outputs": [],
   "source": [
    "student_learning.head()"
   ]
  },
  {
   "cell_type": "code",
   "execution_count": null,
   "id": "c89d7cef",
   "metadata": {},
   "outputs": [],
   "source": [
    "student_purchases.head()"
   ]
  },
  {
   "cell_type": "code",
   "execution_count": null,
   "id": "c49f1c75",
   "metadata": {},
   "outputs": [],
   "source": [
    "# Merge differents data to build a data set "
   ]
  },
  {
   "cell_type": "code",
   "execution_count": null,
   "id": "38dbfc94",
   "metadata": {},
   "outputs": [],
   "source": [
    "df = pd.merge(student_learning, student_purchases, how='left', on='student_id').merge(student_info, how='left', on='student_id').merge(course_ratings, how='left', on=['student_id', 'course_id'])"
   ]
  },
  {
   "cell_type": "code",
   "execution_count": null,
   "id": "ccb7625f",
   "metadata": {
    "scrolled": true
   },
   "outputs": [],
   "source": [
    "df.head()"
   ]
  },
  {
   "cell_type": "code",
   "execution_count": null,
   "id": "2897f4b4",
   "metadata": {},
   "outputs": [],
   "source": [
    "df['purchase'] = df['purchase_type']\n",
    "\n",
    "df.drop('purchase_type', axis=1, inplace=True)\n",
    "\n",
    "dic = {'Annual':1, 'Monthly':1, 'Quarterly': 1, np.nan: 0}\n",
    "\n",
    "df['purchase'] = df['purchase'].map(dic)\n",
    "\n",
    "df['purchase'] = df['purchase'].astype('int')"
   ]
  },
  {
   "cell_type": "code",
   "execution_count": null,
   "id": "2ff80863",
   "metadata": {},
   "outputs": [],
   "source": [
    "df.head(10)"
   ]
  },
  {
   "cell_type": "code",
   "execution_count": null,
   "id": "941861e5",
   "metadata": {},
   "outputs": [],
   "source": [
    "df.shape"
   ]
  },
  {
   "cell_type": "code",
   "execution_count": null,
   "id": "1a25c5ff",
   "metadata": {},
   "outputs": [],
   "source": [
    "# the dataset has 87633 sample, not bad 😋 and 12 columns"
   ]
  },
  {
   "cell_type": "code",
   "execution_count": null,
   "id": "4fe59faa",
   "metadata": {},
   "outputs": [],
   "source": [
    "df.isnull().sum()"
   ]
  },
  {
   "cell_type": "code",
   "execution_count": null,
   "id": "49ac68be",
   "metadata": {},
   "outputs": [],
   "source": [
    "# A lot of missing values, this is normal due to the merge 😐"
   ]
  },
  {
   "cell_type": "code",
   "execution_count": null,
   "id": "621c213a",
   "metadata": {},
   "outputs": [],
   "source": [
    "df.dtypes"
   ]
  },
  {
   "cell_type": "markdown",
   "id": "dd3159ba",
   "metadata": {},
   "source": [
    "##### Remarks"
   ]
  },
  {
   "cell_type": "code",
   "execution_count": null,
   "id": "133176c2",
   "metadata": {},
   "outputs": [],
   "source": [
    "df.describe().T"
   ]
  },
  {
   "cell_type": "markdown",
   "id": "1351dc63",
   "metadata": {},
   "source": [
    "##### Remarks"
   ]
  },
  {
   "cell_type": "markdown",
   "id": "77cef453",
   "metadata": {},
   "source": [
    "- Minutes watched \n",
    "    *50% of students watched videos of more than 10 min\n",
    "- Rating Course\n",
    "    *Most of the students give, This is normal, since the quality of teaching is excellent"
   ]
  },
  {
   "cell_type": "markdown",
   "id": "dc0d8d21",
   "metadata": {},
   "source": [
    "## Data Visualisation"
   ]
  },
  {
   "cell_type": "code",
   "execution_count": null,
   "id": "cf068ecf",
   "metadata": {},
   "outputs": [],
   "source": [
    "counts = df['student_country'].value_counts()\n",
    "\n",
    "df = df.loc[df['student_country'].isin(counts.index[counts > 10])]"
   ]
  },
  {
   "cell_type": "markdown",
   "id": "4e40ea84",
   "metadata": {},
   "source": [
    "## Data selection"
   ]
  },
  {
   "cell_type": "code",
   "execution_count": null,
   "id": "f43c0504",
   "metadata": {},
   "outputs": [],
   "source": [
    "data = df.copy()\n",
    "data = df.drop(['purchase_id', 'student_id', 'date_purchased'], axis=1)"
   ]
  },
  {
   "cell_type": "code",
   "execution_count": null,
   "id": "df1a70e0",
   "metadata": {},
   "outputs": [],
   "source": [
    "data.head()"
   ]
  },
  {
   "cell_type": "code",
   "execution_count": null,
   "id": "24409593",
   "metadata": {},
   "outputs": [],
   "source": [
    "data.isna().sum()"
   ]
  },
  {
   "cell_type": "markdown",
   "id": "28b55c02",
   "metadata": {},
   "source": [
    "## Data split"
   ]
  },
  {
   "cell_type": "code",
   "execution_count": null,
   "id": "c706ad16",
   "metadata": {},
   "outputs": [],
   "source": [
    "X = data.drop('purchase', axis=1)\n",
    "y = data['purchase']"
   ]
  },
  {
   "cell_type": "code",
   "execution_count": null,
   "id": "24bd4f81",
   "metadata": {},
   "outputs": [],
   "source": [
    "x_train, x_test, y_train, y_test = train_test_split(X, y, test_size=0.2, random_state=365, stratify=y)"
   ]
  },
  {
   "cell_type": "code",
   "execution_count": null,
   "id": "134f87eb",
   "metadata": {},
   "outputs": [],
   "source": [
    "#check distributions\n",
    "\n",
    "print(y_train.value_counts(normalize=True), y_test.value_counts(normalize=True))"
   ]
  },
  {
   "cell_type": "markdown",
   "id": "ad68f198",
   "metadata": {},
   "source": [
    "## Cleaning"
   ]
  },
  {
   "cell_type": "markdown",
   "id": "8c3d8bd8",
   "metadata": {},
   "source": [
    "1 . Inpute Missing Values\n",
    "- Inpute student_country by most frequent\n",
    "- Inputer date_rated by most il same in date_registered\n",
    "- Inpute course_rating by most freqent "
   ]
  },
  {
   "cell_type": "code",
   "execution_count": null,
   "id": "58b26196",
   "metadata": {},
   "outputs": [],
   "source": [
    "#define strategy\n",
    "\n",
    "# fit x_train and transform x_test data\n",
    "\n",
    "x_train['date_rated'].fillna(x_train['date_registered'], inplace=True)\n",
    "\n",
    "x_test['date_rated'].fillna(x_train['date_registered'], inplace=True)\n",
    "\n",
    "inputer = SimpleImputer(strategy='most_frequent')\n",
    "\n",
    "fit = inputer.fit_transform(x_train)\n",
    "\n",
    "x_train = pd.DataFrame(data = fit, columns=inputer.feature_names_in_)\n",
    "x_test  = pd.DataFrame(data = inputer.transform(x_test), columns=inputer.feature_names_in_)\n"
   ]
  },
  {
   "cell_type": "code",
   "execution_count": null,
   "id": "462ba5d4",
   "metadata": {},
   "outputs": [],
   "source": [
    "x_train.head()"
   ]
  },
  {
   "cell_type": "code",
   "execution_count": null,
   "id": "596d7de1",
   "metadata": {},
   "outputs": [],
   "source": [
    "# We check if we haven't forgotten something\n",
    "\n",
    "print(\"Missing values in train data : \\n\" , x_train.isnull().sum())\n",
    "print(\"Missing values in test data : \\n\", x_train.isnull().sum())"
   ]
  },
  {
   "cell_type": "code",
   "execution_count": null,
   "id": "f2a5d3a0",
   "metadata": {},
   "outputs": [],
   "source": [
    "x_train.head()"
   ]
  },
  {
   "cell_type": "code",
   "execution_count": null,
   "id": "1401bb06",
   "metadata": {},
   "outputs": [],
   "source": [
    "#Converte date_registered, date_watched,date_purchased to date time\n",
    "cols = ['date_registered', 'date_watched', 'date_rated']\n",
    "for i in cols:\n",
    "    x_train[i] = pd.to_datetime(x_train[i])\n",
    "    x_test[i] = pd.to_datetime(x_test[i])"
   ]
  },
  {
   "cell_type": "code",
   "execution_count": null,
   "id": "eba314a2",
   "metadata": {},
   "outputs": [],
   "source": [
    "x_train.isna().sum()"
   ]
  },
  {
   "cell_type": "markdown",
   "id": "73f2cb58",
   "metadata": {},
   "source": [
    "## Feature Engineering "
   ]
  },
  {
   "cell_type": "markdown",
   "id": "8b032dd1",
   "metadata": {},
   "source": [
    "<p> I will create a column that will group the time between the date of recording and the date of viewing the course, \n",
    "technically  (date_registered - date_watched) </p>"
   ]
  },
  {
   "cell_type": "code",
   "execution_count": null,
   "id": "e6cc2689",
   "metadata": {},
   "outputs": [],
   "source": [
    "x_train['period'] = x_train['date_watched'] - x_train['date_registered']\n",
    "x_test['period'] = x_test['date_watched'] - x_test['date_registered']\n",
    "\n",
    "\n",
    "x_train['period_bf_rating'] = x_train['date_rated'] - x_train['date_watched']\n",
    "x_test['period_bf_rating']  = x_test['date_rated'] - x_test['date_watched']\n"
   ]
  },
  {
   "cell_type": "code",
   "execution_count": null,
   "id": "7c66fee0",
   "metadata": {},
   "outputs": [],
   "source": [
    "x_train.head()"
   ]
  },
  {
   "cell_type": "code",
   "execution_count": null,
   "id": "08082dd9",
   "metadata": {},
   "outputs": [],
   "source": [
    "x_train.isnull().sum()"
   ]
  },
  {
   "cell_type": "markdown",
   "id": "e446f4c9",
   "metadata": {},
   "source": [
    "## Encodage"
   ]
  },
  {
   "cell_type": "code",
   "execution_count": null,
   "id": "faeaf57c",
   "metadata": {},
   "outputs": [],
   "source": [
    "# We are good now, we can build and evaluate our models"
   ]
  },
  {
   "cell_type": "code",
   "execution_count": null,
   "id": "916de12b",
   "metadata": {},
   "outputs": [],
   "source": [
    "encoder  = OrdinalEncoder()\n",
    "\n",
    "label = ['student_country']\n",
    "\n",
    "x_train[label] = encoder.fit_transform(x_train[label])\n",
    "\n",
    "x_test[label] = encoder.transform(x_test[label])\n"
   ]
  },
  {
   "cell_type": "code",
   "execution_count": null,
   "id": "2cc745fe",
   "metadata": {},
   "outputs": [],
   "source": [
    "# drop date times columns"
   ]
  },
  {
   "cell_type": "code",
   "execution_count": null,
   "id": "09d4d426",
   "metadata": {},
   "outputs": [],
   "source": [
    "x_train.drop(columns=['date_registered', 'date_rated', 'date_watched'], inplace=True)\n",
    "x_test.drop(columns=['date_registered', 'date_rated', 'date_watched'], inplace=True)\n",
    "\n",
    "#\n",
    "x_train = x_train.astype({'course_id': 'int64','minutes_watched': 'int64', 'course_rating': 'int64', 'period': 'str', 'period_bf_rating': 'str'})\n",
    "x_test  = x_test.astype({'course_id': 'int64','minutes_watched': 'int64', 'course_rating': 'int64', 'period': 'str', 'period_bf_rating': 'str'})\n",
    "\n",
    "#\n",
    "x_train['period'] = np.abs((x_train['period'].apply(lambda x : x.split(' ')[0])).astype('int64'))\n",
    "x_test['period'] = np.abs((x_test['period'].apply(lambda x : x.split(' ')[0])).astype('int64'))\n",
    "\n",
    "#\n",
    "x_train['period_bf_rating'] = np.abs((x_train['period_bf_rating'].apply(lambda x : x.split(' ')[0])).astype('int64'))\n",
    "x_test['period_bf_rating'] = np.abs((x_test['period_bf_rating'].apply(lambda x : x.split(' ')[0])).astype('int64'))"
   ]
  },
  {
   "cell_type": "markdown",
   "id": "6a722912",
   "metadata": {},
   "source": [
    "## Model building"
   ]
  },
  {
   "cell_type": "code",
   "execution_count": null,
   "id": "2ffdce74",
   "metadata": {},
   "outputs": [],
   "source": [
    "model = SVC()"
   ]
  },
  {
   "cell_type": "code",
   "execution_count": null,
   "id": "ca99f41f",
   "metadata": {},
   "outputs": [],
   "source": [
    "model.fit(x_train, y_train)"
   ]
  },
  {
   "cell_type": "code",
   "execution_count": null,
   "id": "aaca4d2f",
   "metadata": {},
   "outputs": [],
   "source": []
  }
 ],
 "metadata": {
  "kernelspec": {
   "display_name": "Python 3 (ipykernel)",
   "language": "python",
   "name": "python3"
  },
  "language_info": {
   "codemirror_mode": {
    "name": "ipython",
    "version": 3
   },
   "file_extension": ".py",
   "mimetype": "text/x-python",
   "name": "python",
   "nbconvert_exporter": "python",
   "pygments_lexer": "ipython3",
   "version": "3.9.12"
  }
 },
 "nbformat": 4,
 "nbformat_minor": 5
}
