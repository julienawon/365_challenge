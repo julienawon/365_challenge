{
 "cells": [
  {
   "cell_type": "code",
   "execution_count": 1,
   "id": "f416b3a4",
   "metadata": {},
   "outputs": [],
   "source": [
    "# Libraries\n",
    "\n",
    "# EDA \n",
    "import numpy as np\n",
    "import  pandas as pd\n",
    "import matplotlib.pyplot as plt\n",
    "import seaborn as sns\n",
    "import plotly.express as px\n",
    "\n",
    "# -Pre-Processing \n",
    "from sklearn.impute import SimpleImputer\n",
    "from sklearn.preprocessing import MinMaxScaler\n",
    "from sklearn.preprocessing import OrdinalEncoder, LabelEncoder\n",
    "\n",
    "# -Model Selection\n",
    "from sklearn.model_selection import train_test_split\n",
    "\n",
    "\n",
    "# -Algorithms\n",
    "from sklearn.linear_model import LogisticRegression\n",
    "from sklearn.neighbors import KNeighborsClassifier\n",
    "from sklearn.svm import SVC\n",
    "\n",
    "# Model validation\n",
    "from sklearn.model_selection import cross_validate\n",
    "from sklearn.model_selection import learning_curve \n",
    "\n",
    "#Hyper-parameter Hyper-parameter\n",
    "from sklearn.model_selection import GridSearchCV\n",
    "\n",
    "# -Metrics\n",
    "from sklearn.metrics import ConfusionMatrixDisplay, confusion_matrix, classification_report, accuracy_score\n",
    "\n",
    "%matplotlib inline"
   ]
  },
  {
   "cell_type": "code",
   "execution_count": 2,
   "id": "132ce23c",
   "metadata": {},
   "outputs": [],
   "source": [
    "\n",
    "#Import of very relevant data \n",
    "\n",
    "course_ratings = pd.read_csv('365_database/365_course_ratings.csv')\n",
    "\n",
    "student_info = pd.read_csv('365_database/365_student_info.csv')\n",
    "\n",
    "student_learning = pd.read_csv('365_database/365_student_learning.csv')\n",
    "\n",
    "student_purchases = pd.read_csv('365_database/365_student_purchases.csv')\n",
    "\n",
    "# Less relevant data\n",
    "\n",
    "#course_info = pd.read_csv('365_database/365_course_info.csv')\n",
    "\n",
    "#exam_info = pd.read_csv('365_database/365_exam_info.csv')\n",
    "\n",
    "#quiz_info = pd.read_csv('365_database/365_quiz_info.csv')\n",
    "\n",
    "#student_engagement = pd.read_csv('365_database/365_student_engagement.csv')\n",
    "\n",
    "#student_exams = pd.read_csv('365_database/365_student_exams.csv')\n",
    "\n",
    "#student_hub_questions = pd.read_csv('365_database/365_student_hub_questions.csv')\n",
    "\n",
    "#student_quizzes =pd.read_csv('365_database/365_student_quizzes.csv')\n"
   ]
  },
  {
   "cell_type": "markdown",
   "id": "cc2f0896",
   "metadata": {},
   "source": [
    "# Work process :"
   ]
  },
  {
   "cell_type": "markdown",
   "id": "d17628d2",
   "metadata": {},
   "source": [
    "<ol>\n",
    "    <li>\n",
    "        Dataset preparation and preprocessing\n",
    "        <ul>\n",
    "            <li>Data collection</li>\n",
    "            <li>Data visualization</li>\n",
    "            <li>Data selection</li>\n",
    "            <li>Dataset splitting</li>\n",
    "            <li>Data Cleaning</li>\n",
    "            <li>Data formatting</li>\n",
    "            <li>Data Scaling</li>\n",
    "        </ul>\n",
    "    </li>\n",
    "    <li>Modeling and Validation</li>\n",
    "    <li>Evaluating the model using  test set</li>\n",
    "</ol>"
   ]
  },
  {
   "cell_type": "markdown",
   "id": "73cf66f5",
   "metadata": {},
   "source": [
    "# Dataset preparation and preprocessing"
   ]
  },
  {
   "cell_type": "markdown",
   "id": "899266e5",
   "metadata": {},
   "source": [
    "## Data Collection"
   ]
  },
  {
   "cell_type": "code",
   "execution_count": 3,
   "id": "926b401d",
   "metadata": {},
   "outputs": [],
   "source": [
    "# A glance at the various data"
   ]
  },
  {
   "cell_type": "code",
   "execution_count": 4,
   "id": "c8389e60",
   "metadata": {},
   "outputs": [
    {
     "data": {
      "text/html": [
       "<div>\n",
       "<style scoped>\n",
       "    .dataframe tbody tr th:only-of-type {\n",
       "        vertical-align: middle;\n",
       "    }\n",
       "\n",
       "    .dataframe tbody tr th {\n",
       "        vertical-align: top;\n",
       "    }\n",
       "\n",
       "    .dataframe thead th {\n",
       "        text-align: right;\n",
       "    }\n",
       "</style>\n",
       "<table border=\"1\" class=\"dataframe\">\n",
       "  <thead>\n",
       "    <tr style=\"text-align: right;\">\n",
       "      <th></th>\n",
       "      <th>course_id</th>\n",
       "      <th>student_id</th>\n",
       "      <th>course_rating</th>\n",
       "      <th>date_rated</th>\n",
       "    </tr>\n",
       "  </thead>\n",
       "  <tbody>\n",
       "    <tr>\n",
       "      <th>0</th>\n",
       "      <td>14</td>\n",
       "      <td>258956</td>\n",
       "      <td>5</td>\n",
       "      <td>2022-07-06</td>\n",
       "    </tr>\n",
       "    <tr>\n",
       "      <th>1</th>\n",
       "      <td>7</td>\n",
       "      <td>259019</td>\n",
       "      <td>5</td>\n",
       "      <td>2022-08-30</td>\n",
       "    </tr>\n",
       "    <tr>\n",
       "      <th>2</th>\n",
       "      <td>23</td>\n",
       "      <td>259019</td>\n",
       "      <td>4</td>\n",
       "      <td>2022-08-30</td>\n",
       "    </tr>\n",
       "    <tr>\n",
       "      <th>3</th>\n",
       "      <td>14</td>\n",
       "      <td>259283</td>\n",
       "      <td>5</td>\n",
       "      <td>2022-07-08</td>\n",
       "    </tr>\n",
       "    <tr>\n",
       "      <th>4</th>\n",
       "      <td>30</td>\n",
       "      <td>259283</td>\n",
       "      <td>5</td>\n",
       "      <td>2022-07-02</td>\n",
       "    </tr>\n",
       "  </tbody>\n",
       "</table>\n",
       "</div>"
      ],
      "text/plain": [
       "   course_id  student_id  course_rating  date_rated\n",
       "0         14      258956              5  2022-07-06\n",
       "1          7      259019              5  2022-08-30\n",
       "2         23      259019              4  2022-08-30\n",
       "3         14      259283              5  2022-07-08\n",
       "4         30      259283              5  2022-07-02"
      ]
     },
     "execution_count": 4,
     "metadata": {},
     "output_type": "execute_result"
    }
   ],
   "source": [
    "course_ratings.head()"
   ]
  },
  {
   "cell_type": "code",
   "execution_count": 5,
   "id": "a46c2626",
   "metadata": {},
   "outputs": [
    {
     "data": {
      "text/html": [
       "<div>\n",
       "<style scoped>\n",
       "    .dataframe tbody tr th:only-of-type {\n",
       "        vertical-align: middle;\n",
       "    }\n",
       "\n",
       "    .dataframe tbody tr th {\n",
       "        vertical-align: top;\n",
       "    }\n",
       "\n",
       "    .dataframe thead th {\n",
       "        text-align: right;\n",
       "    }\n",
       "</style>\n",
       "<table border=\"1\" class=\"dataframe\">\n",
       "  <thead>\n",
       "    <tr style=\"text-align: right;\">\n",
       "      <th></th>\n",
       "      <th>student_id</th>\n",
       "      <th>student_country</th>\n",
       "      <th>date_registered</th>\n",
       "    </tr>\n",
       "  </thead>\n",
       "  <tbody>\n",
       "    <tr>\n",
       "      <th>0</th>\n",
       "      <td>258798</td>\n",
       "      <td>IN</td>\n",
       "      <td>2022-01-01</td>\n",
       "    </tr>\n",
       "    <tr>\n",
       "      <th>1</th>\n",
       "      <td>258799</td>\n",
       "      <td>CO</td>\n",
       "      <td>2022-01-01</td>\n",
       "    </tr>\n",
       "    <tr>\n",
       "      <th>2</th>\n",
       "      <td>258800</td>\n",
       "      <td>CA</td>\n",
       "      <td>2022-01-01</td>\n",
       "    </tr>\n",
       "    <tr>\n",
       "      <th>3</th>\n",
       "      <td>258801</td>\n",
       "      <td>IN</td>\n",
       "      <td>2022-01-01</td>\n",
       "    </tr>\n",
       "    <tr>\n",
       "      <th>4</th>\n",
       "      <td>258802</td>\n",
       "      <td>US</td>\n",
       "      <td>2022-01-01</td>\n",
       "    </tr>\n",
       "  </tbody>\n",
       "</table>\n",
       "</div>"
      ],
      "text/plain": [
       "   student_id student_country date_registered\n",
       "0      258798              IN      2022-01-01\n",
       "1      258799              CO      2022-01-01\n",
       "2      258800              CA      2022-01-01\n",
       "3      258801              IN      2022-01-01\n",
       "4      258802              US      2022-01-01"
      ]
     },
     "execution_count": 5,
     "metadata": {},
     "output_type": "execute_result"
    }
   ],
   "source": [
    "student_info.head()"
   ]
  },
  {
   "cell_type": "code",
   "execution_count": 6,
   "id": "d99e9ee2",
   "metadata": {},
   "outputs": [
    {
     "data": {
      "text/html": [
       "<div>\n",
       "<style scoped>\n",
       "    .dataframe tbody tr th:only-of-type {\n",
       "        vertical-align: middle;\n",
       "    }\n",
       "\n",
       "    .dataframe tbody tr th {\n",
       "        vertical-align: top;\n",
       "    }\n",
       "\n",
       "    .dataframe thead th {\n",
       "        text-align: right;\n",
       "    }\n",
       "</style>\n",
       "<table border=\"1\" class=\"dataframe\">\n",
       "  <thead>\n",
       "    <tr style=\"text-align: right;\">\n",
       "      <th></th>\n",
       "      <th>student_id</th>\n",
       "      <th>course_id</th>\n",
       "      <th>minutes_watched</th>\n",
       "      <th>date_watched</th>\n",
       "    </tr>\n",
       "  </thead>\n",
       "  <tbody>\n",
       "    <tr>\n",
       "      <th>0</th>\n",
       "      <td>258798</td>\n",
       "      <td>23</td>\n",
       "      <td>0.3</td>\n",
       "      <td>2022-01-01</td>\n",
       "    </tr>\n",
       "    <tr>\n",
       "      <th>1</th>\n",
       "      <td>258800</td>\n",
       "      <td>2</td>\n",
       "      <td>12.9</td>\n",
       "      <td>2022-04-01</td>\n",
       "    </tr>\n",
       "    <tr>\n",
       "      <th>2</th>\n",
       "      <td>258800</td>\n",
       "      <td>7</td>\n",
       "      <td>46.8</td>\n",
       "      <td>2022-01-03</td>\n",
       "    </tr>\n",
       "    <tr>\n",
       "      <th>3</th>\n",
       "      <td>258800</td>\n",
       "      <td>7</td>\n",
       "      <td>4.3</td>\n",
       "      <td>2022-01-04</td>\n",
       "    </tr>\n",
       "    <tr>\n",
       "      <th>4</th>\n",
       "      <td>258800</td>\n",
       "      <td>7</td>\n",
       "      <td>31.7</td>\n",
       "      <td>2022-01-07</td>\n",
       "    </tr>\n",
       "  </tbody>\n",
       "</table>\n",
       "</div>"
      ],
      "text/plain": [
       "   student_id  course_id  minutes_watched date_watched\n",
       "0      258798         23              0.3   2022-01-01\n",
       "1      258800          2             12.9   2022-04-01\n",
       "2      258800          7             46.8   2022-01-03\n",
       "3      258800          7              4.3   2022-01-04\n",
       "4      258800          7             31.7   2022-01-07"
      ]
     },
     "execution_count": 6,
     "metadata": {},
     "output_type": "execute_result"
    }
   ],
   "source": [
    "student_learning.head()"
   ]
  },
  {
   "cell_type": "code",
   "execution_count": 7,
   "id": "c89d7cef",
   "metadata": {},
   "outputs": [
    {
     "data": {
      "text/html": [
       "<div>\n",
       "<style scoped>\n",
       "    .dataframe tbody tr th:only-of-type {\n",
       "        vertical-align: middle;\n",
       "    }\n",
       "\n",
       "    .dataframe tbody tr th {\n",
       "        vertical-align: top;\n",
       "    }\n",
       "\n",
       "    .dataframe thead th {\n",
       "        text-align: right;\n",
       "    }\n",
       "</style>\n",
       "<table border=\"1\" class=\"dataframe\">\n",
       "  <thead>\n",
       "    <tr style=\"text-align: right;\">\n",
       "      <th></th>\n",
       "      <th>purchase_id</th>\n",
       "      <th>student_id</th>\n",
       "      <th>purchase_type</th>\n",
       "      <th>date_purchased</th>\n",
       "    </tr>\n",
       "  </thead>\n",
       "  <tbody>\n",
       "    <tr>\n",
       "      <th>0</th>\n",
       "      <td>15781</td>\n",
       "      <td>258800</td>\n",
       "      <td>Annual</td>\n",
       "      <td>2022-01-01</td>\n",
       "    </tr>\n",
       "    <tr>\n",
       "      <th>1</th>\n",
       "      <td>15786</td>\n",
       "      <td>258803</td>\n",
       "      <td>Annual</td>\n",
       "      <td>2022-01-01</td>\n",
       "    </tr>\n",
       "    <tr>\n",
       "      <th>2</th>\n",
       "      <td>15808</td>\n",
       "      <td>258862</td>\n",
       "      <td>Annual</td>\n",
       "      <td>2022-01-01</td>\n",
       "    </tr>\n",
       "    <tr>\n",
       "      <th>3</th>\n",
       "      <td>15809</td>\n",
       "      <td>258865</td>\n",
       "      <td>Annual</td>\n",
       "      <td>2022-01-01</td>\n",
       "    </tr>\n",
       "    <tr>\n",
       "      <th>4</th>\n",
       "      <td>15811</td>\n",
       "      <td>258878</td>\n",
       "      <td>Annual</td>\n",
       "      <td>2022-01-01</td>\n",
       "    </tr>\n",
       "  </tbody>\n",
       "</table>\n",
       "</div>"
      ],
      "text/plain": [
       "   purchase_id  student_id purchase_type date_purchased\n",
       "0        15781      258800        Annual     2022-01-01\n",
       "1        15786      258803        Annual     2022-01-01\n",
       "2        15808      258862        Annual     2022-01-01\n",
       "3        15809      258865        Annual     2022-01-01\n",
       "4        15811      258878        Annual     2022-01-01"
      ]
     },
     "execution_count": 7,
     "metadata": {},
     "output_type": "execute_result"
    }
   ],
   "source": [
    "student_purchases.head()"
   ]
  },
  {
   "cell_type": "code",
   "execution_count": 8,
   "id": "c49f1c75",
   "metadata": {},
   "outputs": [],
   "source": [
    "# Merge differents data to build a data set "
   ]
  },
  {
   "cell_type": "code",
   "execution_count": 9,
   "id": "38dbfc94",
   "metadata": {},
   "outputs": [],
   "source": [
    "df = pd.merge(student_learning, student_purchases, how='left', on='student_id').merge(student_info, how='left', on='student_id').merge(course_ratings, how='left', on=['student_id', 'course_id'])"
   ]
  },
  {
   "cell_type": "code",
   "execution_count": 10,
   "id": "ccb7625f",
   "metadata": {
    "scrolled": true
   },
   "outputs": [
    {
     "data": {
      "text/html": [
       "<div>\n",
       "<style scoped>\n",
       "    .dataframe tbody tr th:only-of-type {\n",
       "        vertical-align: middle;\n",
       "    }\n",
       "\n",
       "    .dataframe tbody tr th {\n",
       "        vertical-align: top;\n",
       "    }\n",
       "\n",
       "    .dataframe thead th {\n",
       "        text-align: right;\n",
       "    }\n",
       "</style>\n",
       "<table border=\"1\" class=\"dataframe\">\n",
       "  <thead>\n",
       "    <tr style=\"text-align: right;\">\n",
       "      <th></th>\n",
       "      <th>student_id</th>\n",
       "      <th>course_id</th>\n",
       "      <th>minutes_watched</th>\n",
       "      <th>date_watched</th>\n",
       "      <th>purchase_id</th>\n",
       "      <th>purchase_type</th>\n",
       "      <th>date_purchased</th>\n",
       "      <th>student_country</th>\n",
       "      <th>date_registered</th>\n",
       "      <th>course_rating</th>\n",
       "      <th>date_rated</th>\n",
       "    </tr>\n",
       "  </thead>\n",
       "  <tbody>\n",
       "    <tr>\n",
       "      <th>0</th>\n",
       "      <td>258798</td>\n",
       "      <td>23</td>\n",
       "      <td>0.3</td>\n",
       "      <td>2022-01-01</td>\n",
       "      <td>NaN</td>\n",
       "      <td>NaN</td>\n",
       "      <td>NaN</td>\n",
       "      <td>IN</td>\n",
       "      <td>2022-01-01</td>\n",
       "      <td>NaN</td>\n",
       "      <td>NaN</td>\n",
       "    </tr>\n",
       "    <tr>\n",
       "      <th>1</th>\n",
       "      <td>258800</td>\n",
       "      <td>2</td>\n",
       "      <td>12.9</td>\n",
       "      <td>2022-04-01</td>\n",
       "      <td>15781.0</td>\n",
       "      <td>Annual</td>\n",
       "      <td>2022-01-01</td>\n",
       "      <td>CA</td>\n",
       "      <td>2022-01-01</td>\n",
       "      <td>NaN</td>\n",
       "      <td>NaN</td>\n",
       "    </tr>\n",
       "    <tr>\n",
       "      <th>2</th>\n",
       "      <td>258800</td>\n",
       "      <td>7</td>\n",
       "      <td>46.8</td>\n",
       "      <td>2022-01-03</td>\n",
       "      <td>15781.0</td>\n",
       "      <td>Annual</td>\n",
       "      <td>2022-01-01</td>\n",
       "      <td>CA</td>\n",
       "      <td>2022-01-01</td>\n",
       "      <td>NaN</td>\n",
       "      <td>NaN</td>\n",
       "    </tr>\n",
       "    <tr>\n",
       "      <th>3</th>\n",
       "      <td>258800</td>\n",
       "      <td>7</td>\n",
       "      <td>4.3</td>\n",
       "      <td>2022-01-04</td>\n",
       "      <td>15781.0</td>\n",
       "      <td>Annual</td>\n",
       "      <td>2022-01-01</td>\n",
       "      <td>CA</td>\n",
       "      <td>2022-01-01</td>\n",
       "      <td>NaN</td>\n",
       "      <td>NaN</td>\n",
       "    </tr>\n",
       "    <tr>\n",
       "      <th>4</th>\n",
       "      <td>258800</td>\n",
       "      <td>7</td>\n",
       "      <td>31.7</td>\n",
       "      <td>2022-01-07</td>\n",
       "      <td>15781.0</td>\n",
       "      <td>Annual</td>\n",
       "      <td>2022-01-01</td>\n",
       "      <td>CA</td>\n",
       "      <td>2022-01-01</td>\n",
       "      <td>NaN</td>\n",
       "      <td>NaN</td>\n",
       "    </tr>\n",
       "  </tbody>\n",
       "</table>\n",
       "</div>"
      ],
      "text/plain": [
       "   student_id  course_id  minutes_watched date_watched  purchase_id  \\\n",
       "0      258798         23              0.3   2022-01-01          NaN   \n",
       "1      258800          2             12.9   2022-04-01      15781.0   \n",
       "2      258800          7             46.8   2022-01-03      15781.0   \n",
       "3      258800          7              4.3   2022-01-04      15781.0   \n",
       "4      258800          7             31.7   2022-01-07      15781.0   \n",
       "\n",
       "  purchase_type date_purchased student_country date_registered  course_rating  \\\n",
       "0           NaN            NaN              IN      2022-01-01            NaN   \n",
       "1        Annual     2022-01-01              CA      2022-01-01            NaN   \n",
       "2        Annual     2022-01-01              CA      2022-01-01            NaN   \n",
       "3        Annual     2022-01-01              CA      2022-01-01            NaN   \n",
       "4        Annual     2022-01-01              CA      2022-01-01            NaN   \n",
       "\n",
       "  date_rated  \n",
       "0        NaN  \n",
       "1        NaN  \n",
       "2        NaN  \n",
       "3        NaN  \n",
       "4        NaN  "
      ]
     },
     "execution_count": 10,
     "metadata": {},
     "output_type": "execute_result"
    }
   ],
   "source": [
    "df.head()"
   ]
  },
  {
   "cell_type": "code",
   "execution_count": 11,
   "id": "2897f4b4",
   "metadata": {},
   "outputs": [],
   "source": [
    "df['purchase'] = df['purchase_type']\n",
    "\n",
    "df.drop('purchase_type', axis=1, inplace=True)\n",
    "\n",
    "dic = {'Annual':1, 'Monthly':1, 'Quarterly': 1, np.nan: 0}\n",
    "\n",
    "df['purchase'] = df['purchase'].map(dic)\n",
    "\n",
    "df['purchase'] = df['purchase'].astype('int')"
   ]
  },
  {
   "cell_type": "code",
   "execution_count": 12,
   "id": "2ff80863",
   "metadata": {},
   "outputs": [
    {
     "data": {
      "text/html": [
       "<div>\n",
       "<style scoped>\n",
       "    .dataframe tbody tr th:only-of-type {\n",
       "        vertical-align: middle;\n",
       "    }\n",
       "\n",
       "    .dataframe tbody tr th {\n",
       "        vertical-align: top;\n",
       "    }\n",
       "\n",
       "    .dataframe thead th {\n",
       "        text-align: right;\n",
       "    }\n",
       "</style>\n",
       "<table border=\"1\" class=\"dataframe\">\n",
       "  <thead>\n",
       "    <tr style=\"text-align: right;\">\n",
       "      <th></th>\n",
       "      <th>student_id</th>\n",
       "      <th>course_id</th>\n",
       "      <th>minutes_watched</th>\n",
       "      <th>date_watched</th>\n",
       "      <th>purchase_id</th>\n",
       "      <th>date_purchased</th>\n",
       "      <th>student_country</th>\n",
       "      <th>date_registered</th>\n",
       "      <th>course_rating</th>\n",
       "      <th>date_rated</th>\n",
       "      <th>purchase</th>\n",
       "    </tr>\n",
       "  </thead>\n",
       "  <tbody>\n",
       "    <tr>\n",
       "      <th>0</th>\n",
       "      <td>258798</td>\n",
       "      <td>23</td>\n",
       "      <td>0.3</td>\n",
       "      <td>2022-01-01</td>\n",
       "      <td>NaN</td>\n",
       "      <td>NaN</td>\n",
       "      <td>IN</td>\n",
       "      <td>2022-01-01</td>\n",
       "      <td>NaN</td>\n",
       "      <td>NaN</td>\n",
       "      <td>0</td>\n",
       "    </tr>\n",
       "    <tr>\n",
       "      <th>1</th>\n",
       "      <td>258800</td>\n",
       "      <td>2</td>\n",
       "      <td>12.9</td>\n",
       "      <td>2022-04-01</td>\n",
       "      <td>15781.0</td>\n",
       "      <td>2022-01-01</td>\n",
       "      <td>CA</td>\n",
       "      <td>2022-01-01</td>\n",
       "      <td>NaN</td>\n",
       "      <td>NaN</td>\n",
       "      <td>1</td>\n",
       "    </tr>\n",
       "    <tr>\n",
       "      <th>2</th>\n",
       "      <td>258800</td>\n",
       "      <td>7</td>\n",
       "      <td>46.8</td>\n",
       "      <td>2022-01-03</td>\n",
       "      <td>15781.0</td>\n",
       "      <td>2022-01-01</td>\n",
       "      <td>CA</td>\n",
       "      <td>2022-01-01</td>\n",
       "      <td>NaN</td>\n",
       "      <td>NaN</td>\n",
       "      <td>1</td>\n",
       "    </tr>\n",
       "    <tr>\n",
       "      <th>3</th>\n",
       "      <td>258800</td>\n",
       "      <td>7</td>\n",
       "      <td>4.3</td>\n",
       "      <td>2022-01-04</td>\n",
       "      <td>15781.0</td>\n",
       "      <td>2022-01-01</td>\n",
       "      <td>CA</td>\n",
       "      <td>2022-01-01</td>\n",
       "      <td>NaN</td>\n",
       "      <td>NaN</td>\n",
       "      <td>1</td>\n",
       "    </tr>\n",
       "    <tr>\n",
       "      <th>4</th>\n",
       "      <td>258800</td>\n",
       "      <td>7</td>\n",
       "      <td>31.7</td>\n",
       "      <td>2022-01-07</td>\n",
       "      <td>15781.0</td>\n",
       "      <td>2022-01-01</td>\n",
       "      <td>CA</td>\n",
       "      <td>2022-01-01</td>\n",
       "      <td>NaN</td>\n",
       "      <td>NaN</td>\n",
       "      <td>1</td>\n",
       "    </tr>\n",
       "    <tr>\n",
       "      <th>5</th>\n",
       "      <td>258800</td>\n",
       "      <td>7</td>\n",
       "      <td>61.6</td>\n",
       "      <td>2022-01-05</td>\n",
       "      <td>15781.0</td>\n",
       "      <td>2022-01-01</td>\n",
       "      <td>CA</td>\n",
       "      <td>2022-01-01</td>\n",
       "      <td>NaN</td>\n",
       "      <td>NaN</td>\n",
       "      <td>1</td>\n",
       "    </tr>\n",
       "    <tr>\n",
       "      <th>6</th>\n",
       "      <td>258800</td>\n",
       "      <td>7</td>\n",
       "      <td>45.1</td>\n",
       "      <td>2022-01-06</td>\n",
       "      <td>15781.0</td>\n",
       "      <td>2022-01-01</td>\n",
       "      <td>CA</td>\n",
       "      <td>2022-01-01</td>\n",
       "      <td>NaN</td>\n",
       "      <td>NaN</td>\n",
       "      <td>1</td>\n",
       "    </tr>\n",
       "    <tr>\n",
       "      <th>7</th>\n",
       "      <td>258800</td>\n",
       "      <td>11</td>\n",
       "      <td>0.5</td>\n",
       "      <td>2022-02-21</td>\n",
       "      <td>15781.0</td>\n",
       "      <td>2022-01-01</td>\n",
       "      <td>CA</td>\n",
       "      <td>2022-01-01</td>\n",
       "      <td>NaN</td>\n",
       "      <td>NaN</td>\n",
       "      <td>1</td>\n",
       "    </tr>\n",
       "    <tr>\n",
       "      <th>8</th>\n",
       "      <td>258800</td>\n",
       "      <td>11</td>\n",
       "      <td>1.1</td>\n",
       "      <td>2022-02-22</td>\n",
       "      <td>15781.0</td>\n",
       "      <td>2022-01-01</td>\n",
       "      <td>CA</td>\n",
       "      <td>2022-01-01</td>\n",
       "      <td>NaN</td>\n",
       "      <td>NaN</td>\n",
       "      <td>1</td>\n",
       "    </tr>\n",
       "    <tr>\n",
       "      <th>9</th>\n",
       "      <td>258800</td>\n",
       "      <td>14</td>\n",
       "      <td>4.0</td>\n",
       "      <td>2022-01-28</td>\n",
       "      <td>15781.0</td>\n",
       "      <td>2022-01-01</td>\n",
       "      <td>CA</td>\n",
       "      <td>2022-01-01</td>\n",
       "      <td>NaN</td>\n",
       "      <td>NaN</td>\n",
       "      <td>1</td>\n",
       "    </tr>\n",
       "  </tbody>\n",
       "</table>\n",
       "</div>"
      ],
      "text/plain": [
       "   student_id  course_id  minutes_watched date_watched  purchase_id  \\\n",
       "0      258798         23              0.3   2022-01-01          NaN   \n",
       "1      258800          2             12.9   2022-04-01      15781.0   \n",
       "2      258800          7             46.8   2022-01-03      15781.0   \n",
       "3      258800          7              4.3   2022-01-04      15781.0   \n",
       "4      258800          7             31.7   2022-01-07      15781.0   \n",
       "5      258800          7             61.6   2022-01-05      15781.0   \n",
       "6      258800          7             45.1   2022-01-06      15781.0   \n",
       "7      258800         11              0.5   2022-02-21      15781.0   \n",
       "8      258800         11              1.1   2022-02-22      15781.0   \n",
       "9      258800         14              4.0   2022-01-28      15781.0   \n",
       "\n",
       "  date_purchased student_country date_registered  course_rating date_rated  \\\n",
       "0            NaN              IN      2022-01-01            NaN        NaN   \n",
       "1     2022-01-01              CA      2022-01-01            NaN        NaN   \n",
       "2     2022-01-01              CA      2022-01-01            NaN        NaN   \n",
       "3     2022-01-01              CA      2022-01-01            NaN        NaN   \n",
       "4     2022-01-01              CA      2022-01-01            NaN        NaN   \n",
       "5     2022-01-01              CA      2022-01-01            NaN        NaN   \n",
       "6     2022-01-01              CA      2022-01-01            NaN        NaN   \n",
       "7     2022-01-01              CA      2022-01-01            NaN        NaN   \n",
       "8     2022-01-01              CA      2022-01-01            NaN        NaN   \n",
       "9     2022-01-01              CA      2022-01-01            NaN        NaN   \n",
       "\n",
       "   purchase  \n",
       "0         0  \n",
       "1         1  \n",
       "2         1  \n",
       "3         1  \n",
       "4         1  \n",
       "5         1  \n",
       "6         1  \n",
       "7         1  \n",
       "8         1  \n",
       "9         1  "
      ]
     },
     "execution_count": 12,
     "metadata": {},
     "output_type": "execute_result"
    }
   ],
   "source": [
    "df.head(10)"
   ]
  },
  {
   "cell_type": "code",
   "execution_count": 13,
   "id": "941861e5",
   "metadata": {},
   "outputs": [
    {
     "data": {
      "text/plain": [
       "(87633, 11)"
      ]
     },
     "execution_count": 13,
     "metadata": {},
     "output_type": "execute_result"
    }
   ],
   "source": [
    "df.shape"
   ]
  },
  {
   "cell_type": "code",
   "execution_count": 14,
   "id": "1a25c5ff",
   "metadata": {},
   "outputs": [],
   "source": [
    "# the dataset has 87633 sample, not bad 😋 and 12 columns"
   ]
  },
  {
   "cell_type": "code",
   "execution_count": 15,
   "id": "4fe59faa",
   "metadata": {},
   "outputs": [
    {
     "data": {
      "text/plain": [
       "student_id             0\n",
       "course_id              0\n",
       "minutes_watched        0\n",
       "date_watched           0\n",
       "purchase_id        27204\n",
       "date_purchased     27204\n",
       "student_country       44\n",
       "date_registered        0\n",
       "course_rating      71054\n",
       "date_rated         71054\n",
       "purchase               0\n",
       "dtype: int64"
      ]
     },
     "execution_count": 15,
     "metadata": {},
     "output_type": "execute_result"
    }
   ],
   "source": [
    "df.isnull().sum()"
   ]
  },
  {
   "cell_type": "code",
   "execution_count": 16,
   "id": "49ac68be",
   "metadata": {},
   "outputs": [],
   "source": [
    "# A lot of missing values, this is normal due to the merge 😐"
   ]
  },
  {
   "cell_type": "code",
   "execution_count": 17,
   "id": "621c213a",
   "metadata": {},
   "outputs": [
    {
     "data": {
      "text/plain": [
       "student_id           int64\n",
       "course_id            int64\n",
       "minutes_watched    float64\n",
       "date_watched        object\n",
       "purchase_id        float64\n",
       "date_purchased      object\n",
       "student_country     object\n",
       "date_registered     object\n",
       "course_rating      float64\n",
       "date_rated          object\n",
       "purchase             int32\n",
       "dtype: object"
      ]
     },
     "execution_count": 17,
     "metadata": {},
     "output_type": "execute_result"
    }
   ],
   "source": [
    "df.dtypes"
   ]
  },
  {
   "cell_type": "markdown",
   "id": "dd3159ba",
   "metadata": {},
   "source": [
    "##### Remarks"
   ]
  },
  {
   "cell_type": "code",
   "execution_count": 18,
   "id": "133176c2",
   "metadata": {},
   "outputs": [
    {
     "data": {
      "text/html": [
       "<div>\n",
       "<style scoped>\n",
       "    .dataframe tbody tr th:only-of-type {\n",
       "        vertical-align: middle;\n",
       "    }\n",
       "\n",
       "    .dataframe tbody tr th {\n",
       "        vertical-align: top;\n",
       "    }\n",
       "\n",
       "    .dataframe thead th {\n",
       "        text-align: right;\n",
       "    }\n",
       "</style>\n",
       "<table border=\"1\" class=\"dataframe\">\n",
       "  <thead>\n",
       "    <tr style=\"text-align: right;\">\n",
       "      <th></th>\n",
       "      <th>count</th>\n",
       "      <th>mean</th>\n",
       "      <th>std</th>\n",
       "      <th>min</th>\n",
       "      <th>25%</th>\n",
       "      <th>50%</th>\n",
       "      <th>75%</th>\n",
       "      <th>max</th>\n",
       "    </tr>\n",
       "  </thead>\n",
       "  <tbody>\n",
       "    <tr>\n",
       "      <th>student_id</th>\n",
       "      <td>87633.0</td>\n",
       "      <td>272453.644597</td>\n",
       "      <td>9934.821750</td>\n",
       "      <td>258798.0</td>\n",
       "      <td>263690.0</td>\n",
       "      <td>270486.0</td>\n",
       "      <td>280019.0</td>\n",
       "      <td>295513.0</td>\n",
       "    </tr>\n",
       "    <tr>\n",
       "      <th>course_id</th>\n",
       "      <td>87633.0</td>\n",
       "      <td>19.587941</td>\n",
       "      <td>12.274264</td>\n",
       "      <td>2.0</td>\n",
       "      <td>7.0</td>\n",
       "      <td>16.0</td>\n",
       "      <td>24.0</td>\n",
       "      <td>67.0</td>\n",
       "    </tr>\n",
       "    <tr>\n",
       "      <th>minutes_watched</th>\n",
       "      <td>87633.0</td>\n",
       "      <td>31.387779</td>\n",
       "      <td>41.174484</td>\n",
       "      <td>0.0</td>\n",
       "      <td>5.4</td>\n",
       "      <td>18.9</td>\n",
       "      <td>42.2</td>\n",
       "      <td>1710.6</td>\n",
       "    </tr>\n",
       "    <tr>\n",
       "      <th>purchase_id</th>\n",
       "      <td>60429.0</td>\n",
       "      <td>19469.821112</td>\n",
       "      <td>2054.504091</td>\n",
       "      <td>15781.0</td>\n",
       "      <td>17677.0</td>\n",
       "      <td>19504.0</td>\n",
       "      <td>21243.0</td>\n",
       "      <td>23152.0</td>\n",
       "    </tr>\n",
       "    <tr>\n",
       "      <th>course_rating</th>\n",
       "      <td>16579.0</td>\n",
       "      <td>4.795766</td>\n",
       "      <td>0.520219</td>\n",
       "      <td>1.0</td>\n",
       "      <td>5.0</td>\n",
       "      <td>5.0</td>\n",
       "      <td>5.0</td>\n",
       "      <td>5.0</td>\n",
       "    </tr>\n",
       "    <tr>\n",
       "      <th>purchase</th>\n",
       "      <td>87633.0</td>\n",
       "      <td>0.689569</td>\n",
       "      <td>0.462673</td>\n",
       "      <td>0.0</td>\n",
       "      <td>0.0</td>\n",
       "      <td>1.0</td>\n",
       "      <td>1.0</td>\n",
       "      <td>1.0</td>\n",
       "    </tr>\n",
       "  </tbody>\n",
       "</table>\n",
       "</div>"
      ],
      "text/plain": [
       "                   count           mean          std       min       25%  \\\n",
       "student_id       87633.0  272453.644597  9934.821750  258798.0  263690.0   \n",
       "course_id        87633.0      19.587941    12.274264       2.0       7.0   \n",
       "minutes_watched  87633.0      31.387779    41.174484       0.0       5.4   \n",
       "purchase_id      60429.0   19469.821112  2054.504091   15781.0   17677.0   \n",
       "course_rating    16579.0       4.795766     0.520219       1.0       5.0   \n",
       "purchase         87633.0       0.689569     0.462673       0.0       0.0   \n",
       "\n",
       "                      50%       75%       max  \n",
       "student_id       270486.0  280019.0  295513.0  \n",
       "course_id            16.0      24.0      67.0  \n",
       "minutes_watched      18.9      42.2    1710.6  \n",
       "purchase_id       19504.0   21243.0   23152.0  \n",
       "course_rating         5.0       5.0       5.0  \n",
       "purchase              1.0       1.0       1.0  "
      ]
     },
     "execution_count": 18,
     "metadata": {},
     "output_type": "execute_result"
    }
   ],
   "source": [
    "df.describe().T"
   ]
  },
  {
   "cell_type": "markdown",
   "id": "1351dc63",
   "metadata": {},
   "source": [
    "##### Remarks"
   ]
  },
  {
   "cell_type": "markdown",
   "id": "77cef453",
   "metadata": {},
   "source": [
    "- Minutes watched \n",
    "    *50% of students watched videos of more than 10 min\n",
    "- Rating Course\n",
    "    *Most of the students give, This is normal, since the quality of teaching is excellent"
   ]
  },
  {
   "cell_type": "markdown",
   "id": "dc0d8d21",
   "metadata": {},
   "source": [
    "## Data Visualisation"
   ]
  },
  {
   "cell_type": "code",
   "execution_count": 19,
   "id": "cf068ecf",
   "metadata": {},
   "outputs": [],
   "source": [
    "counts = df['student_country'].value_counts()\n",
    "\n",
    "df = df.loc[df['student_country'].isin(counts.index[counts > 10])]"
   ]
  },
  {
   "cell_type": "markdown",
   "id": "4e40ea84",
   "metadata": {},
   "source": [
    "## Data selection"
   ]
  },
  {
   "cell_type": "code",
   "execution_count": 20,
   "id": "f43c0504",
   "metadata": {},
   "outputs": [],
   "source": [
    "data = df.copy()\n",
    "data = df.drop(['purchase_id', 'student_id', 'date_purchased'], axis=1)"
   ]
  },
  {
   "cell_type": "code",
   "execution_count": 21,
   "id": "df1a70e0",
   "metadata": {},
   "outputs": [
    {
     "data": {
      "text/html": [
       "<div>\n",
       "<style scoped>\n",
       "    .dataframe tbody tr th:only-of-type {\n",
       "        vertical-align: middle;\n",
       "    }\n",
       "\n",
       "    .dataframe tbody tr th {\n",
       "        vertical-align: top;\n",
       "    }\n",
       "\n",
       "    .dataframe thead th {\n",
       "        text-align: right;\n",
       "    }\n",
       "</style>\n",
       "<table border=\"1\" class=\"dataframe\">\n",
       "  <thead>\n",
       "    <tr style=\"text-align: right;\">\n",
       "      <th></th>\n",
       "      <th>course_id</th>\n",
       "      <th>minutes_watched</th>\n",
       "      <th>date_watched</th>\n",
       "      <th>student_country</th>\n",
       "      <th>date_registered</th>\n",
       "      <th>course_rating</th>\n",
       "      <th>date_rated</th>\n",
       "      <th>purchase</th>\n",
       "    </tr>\n",
       "  </thead>\n",
       "  <tbody>\n",
       "    <tr>\n",
       "      <th>0</th>\n",
       "      <td>23</td>\n",
       "      <td>0.3</td>\n",
       "      <td>2022-01-01</td>\n",
       "      <td>IN</td>\n",
       "      <td>2022-01-01</td>\n",
       "      <td>NaN</td>\n",
       "      <td>NaN</td>\n",
       "      <td>0</td>\n",
       "    </tr>\n",
       "    <tr>\n",
       "      <th>1</th>\n",
       "      <td>2</td>\n",
       "      <td>12.9</td>\n",
       "      <td>2022-04-01</td>\n",
       "      <td>CA</td>\n",
       "      <td>2022-01-01</td>\n",
       "      <td>NaN</td>\n",
       "      <td>NaN</td>\n",
       "      <td>1</td>\n",
       "    </tr>\n",
       "    <tr>\n",
       "      <th>2</th>\n",
       "      <td>7</td>\n",
       "      <td>46.8</td>\n",
       "      <td>2022-01-03</td>\n",
       "      <td>CA</td>\n",
       "      <td>2022-01-01</td>\n",
       "      <td>NaN</td>\n",
       "      <td>NaN</td>\n",
       "      <td>1</td>\n",
       "    </tr>\n",
       "    <tr>\n",
       "      <th>3</th>\n",
       "      <td>7</td>\n",
       "      <td>4.3</td>\n",
       "      <td>2022-01-04</td>\n",
       "      <td>CA</td>\n",
       "      <td>2022-01-01</td>\n",
       "      <td>NaN</td>\n",
       "      <td>NaN</td>\n",
       "      <td>1</td>\n",
       "    </tr>\n",
       "    <tr>\n",
       "      <th>4</th>\n",
       "      <td>7</td>\n",
       "      <td>31.7</td>\n",
       "      <td>2022-01-07</td>\n",
       "      <td>CA</td>\n",
       "      <td>2022-01-01</td>\n",
       "      <td>NaN</td>\n",
       "      <td>NaN</td>\n",
       "      <td>1</td>\n",
       "    </tr>\n",
       "  </tbody>\n",
       "</table>\n",
       "</div>"
      ],
      "text/plain": [
       "   course_id  minutes_watched date_watched student_country date_registered  \\\n",
       "0         23              0.3   2022-01-01              IN      2022-01-01   \n",
       "1          2             12.9   2022-04-01              CA      2022-01-01   \n",
       "2          7             46.8   2022-01-03              CA      2022-01-01   \n",
       "3          7              4.3   2022-01-04              CA      2022-01-01   \n",
       "4          7             31.7   2022-01-07              CA      2022-01-01   \n",
       "\n",
       "   course_rating date_rated  purchase  \n",
       "0            NaN        NaN         0  \n",
       "1            NaN        NaN         1  \n",
       "2            NaN        NaN         1  \n",
       "3            NaN        NaN         1  \n",
       "4            NaN        NaN         1  "
      ]
     },
     "execution_count": 21,
     "metadata": {},
     "output_type": "execute_result"
    }
   ],
   "source": [
    "data.head()"
   ]
  },
  {
   "cell_type": "code",
   "execution_count": 22,
   "id": "24409593",
   "metadata": {},
   "outputs": [
    {
     "data": {
      "text/plain": [
       "course_id              0\n",
       "minutes_watched        0\n",
       "date_watched           0\n",
       "student_country        0\n",
       "date_registered        0\n",
       "course_rating      70870\n",
       "date_rated         70870\n",
       "purchase               0\n",
       "dtype: int64"
      ]
     },
     "execution_count": 22,
     "metadata": {},
     "output_type": "execute_result"
    }
   ],
   "source": [
    "data.isna().sum()"
   ]
  },
  {
   "cell_type": "markdown",
   "id": "28b55c02",
   "metadata": {},
   "source": [
    "## Data split"
   ]
  },
  {
   "cell_type": "code",
   "execution_count": 23,
   "id": "c706ad16",
   "metadata": {},
   "outputs": [],
   "source": [
    "X = data.drop('purchase', axis=1)\n",
    "y = data['purchase']"
   ]
  },
  {
   "cell_type": "code",
   "execution_count": 24,
   "id": "24bd4f81",
   "metadata": {},
   "outputs": [],
   "source": [
    "x_train, x_test, y_train, y_test = train_test_split(X, y, test_size=0.2, random_state=365, stratify=y)"
   ]
  },
  {
   "cell_type": "code",
   "execution_count": 25,
   "id": "134f87eb",
   "metadata": {},
   "outputs": [
    {
     "name": "stdout",
     "output_type": "stream",
     "text": [
      "1    0.69083\n",
      "0    0.30917\n",
      "Name: purchase, dtype: float64 1    0.690825\n",
      "0    0.309175\n",
      "Name: purchase, dtype: float64\n"
     ]
    }
   ],
   "source": [
    "#check distributions\n",
    "\n",
    "print(y_train.value_counts(normalize=True), y_test.value_counts(normalize=True))"
   ]
  },
  {
   "cell_type": "markdown",
   "id": "ad68f198",
   "metadata": {},
   "source": [
    "## Cleaning"
   ]
  },
  {
   "cell_type": "markdown",
   "id": "8c3d8bd8",
   "metadata": {},
   "source": [
    "1 . Inpute Missing Values\n",
    "- Inpute student_country by most frequent\n",
    "- Inputer date_rated by most il same in date_registered\n",
    "- Inpute course_rating by most freqent "
   ]
  },
  {
   "cell_type": "code",
   "execution_count": 26,
   "id": "58b26196",
   "metadata": {},
   "outputs": [],
   "source": [
    "#define strategy\n",
    "\n",
    "# fit x_train and transform x_test data\n",
    "\n",
    "x_train['date_rated'].fillna(x_train['date_registered'], inplace=True)\n",
    "\n",
    "x_test['date_rated'].fillna(x_train['date_registered'], inplace=True)\n",
    "\n",
    "inputer = SimpleImputer(strategy='most_frequent')\n",
    "\n",
    "fit = inputer.fit_transform(x_train)\n",
    "\n",
    "x_train = pd.DataFrame(data = fit, columns=inputer.feature_names_in_)\n",
    "x_test  = pd.DataFrame(data = inputer.transform(x_test), columns=inputer.feature_names_in_)\n"
   ]
  },
  {
   "cell_type": "code",
   "execution_count": 27,
   "id": "462ba5d4",
   "metadata": {},
   "outputs": [
    {
     "data": {
      "text/html": [
       "<div>\n",
       "<style scoped>\n",
       "    .dataframe tbody tr th:only-of-type {\n",
       "        vertical-align: middle;\n",
       "    }\n",
       "\n",
       "    .dataframe tbody tr th {\n",
       "        vertical-align: top;\n",
       "    }\n",
       "\n",
       "    .dataframe thead th {\n",
       "        text-align: right;\n",
       "    }\n",
       "</style>\n",
       "<table border=\"1\" class=\"dataframe\">\n",
       "  <thead>\n",
       "    <tr style=\"text-align: right;\">\n",
       "      <th></th>\n",
       "      <th>course_id</th>\n",
       "      <th>minutes_watched</th>\n",
       "      <th>date_watched</th>\n",
       "      <th>student_country</th>\n",
       "      <th>date_registered</th>\n",
       "      <th>course_rating</th>\n",
       "      <th>date_rated</th>\n",
       "    </tr>\n",
       "  </thead>\n",
       "  <tbody>\n",
       "    <tr>\n",
       "      <th>0</th>\n",
       "      <td>7</td>\n",
       "      <td>10.4</td>\n",
       "      <td>2022-02-17</td>\n",
       "      <td>EG</td>\n",
       "      <td>2022-02-16</td>\n",
       "      <td>5.0</td>\n",
       "      <td>2022-02-16</td>\n",
       "    </tr>\n",
       "    <tr>\n",
       "      <th>1</th>\n",
       "      <td>36</td>\n",
       "      <td>0.2</td>\n",
       "      <td>2022-05-03</td>\n",
       "      <td>US</td>\n",
       "      <td>2022-05-03</td>\n",
       "      <td>5.0</td>\n",
       "      <td>2022-05-03</td>\n",
       "    </tr>\n",
       "    <tr>\n",
       "      <th>2</th>\n",
       "      <td>7</td>\n",
       "      <td>10.0</td>\n",
       "      <td>2022-03-15</td>\n",
       "      <td>US</td>\n",
       "      <td>2022-03-15</td>\n",
       "      <td>5.0</td>\n",
       "      <td>2022-03-15</td>\n",
       "    </tr>\n",
       "    <tr>\n",
       "      <th>3</th>\n",
       "      <td>23</td>\n",
       "      <td>36.7</td>\n",
       "      <td>2022-08-27</td>\n",
       "      <td>EG</td>\n",
       "      <td>2022-07-05</td>\n",
       "      <td>5.0</td>\n",
       "      <td>2022-08-31</td>\n",
       "    </tr>\n",
       "    <tr>\n",
       "      <th>4</th>\n",
       "      <td>35</td>\n",
       "      <td>10.8</td>\n",
       "      <td>2022-09-17</td>\n",
       "      <td>ID</td>\n",
       "      <td>2022-08-07</td>\n",
       "      <td>5.0</td>\n",
       "      <td>2022-09-18</td>\n",
       "    </tr>\n",
       "  </tbody>\n",
       "</table>\n",
       "</div>"
      ],
      "text/plain": [
       "  course_id minutes_watched date_watched student_country date_registered  \\\n",
       "0         7            10.4   2022-02-17              EG      2022-02-16   \n",
       "1        36             0.2   2022-05-03              US      2022-05-03   \n",
       "2         7            10.0   2022-03-15              US      2022-03-15   \n",
       "3        23            36.7   2022-08-27              EG      2022-07-05   \n",
       "4        35            10.8   2022-09-17              ID      2022-08-07   \n",
       "\n",
       "  course_rating  date_rated  \n",
       "0           5.0  2022-02-16  \n",
       "1           5.0  2022-05-03  \n",
       "2           5.0  2022-03-15  \n",
       "3           5.0  2022-08-31  \n",
       "4           5.0  2022-09-18  "
      ]
     },
     "execution_count": 27,
     "metadata": {},
     "output_type": "execute_result"
    }
   ],
   "source": [
    "x_train.head()"
   ]
  },
  {
   "cell_type": "code",
   "execution_count": 28,
   "id": "596d7de1",
   "metadata": {},
   "outputs": [
    {
     "name": "stdout",
     "output_type": "stream",
     "text": [
      "Missing values in train data : \n",
      " course_id          0\n",
      "minutes_watched    0\n",
      "date_watched       0\n",
      "student_country    0\n",
      "date_registered    0\n",
      "course_rating      0\n",
      "date_rated         0\n",
      "dtype: int64\n",
      "Missing values in test data : \n",
      " course_id          0\n",
      "minutes_watched    0\n",
      "date_watched       0\n",
      "student_country    0\n",
      "date_registered    0\n",
      "course_rating      0\n",
      "date_rated         0\n",
      "dtype: int64\n"
     ]
    }
   ],
   "source": [
    "# We check if we haven't forgotten something\n",
    "\n",
    "print(\"Missing values in train data : \\n\" , x_train.isnull().sum())\n",
    "print(\"Missing values in test data : \\n\", x_train.isnull().sum())"
   ]
  },
  {
   "cell_type": "code",
   "execution_count": 29,
   "id": "f2a5d3a0",
   "metadata": {},
   "outputs": [
    {
     "data": {
      "text/html": [
       "<div>\n",
       "<style scoped>\n",
       "    .dataframe tbody tr th:only-of-type {\n",
       "        vertical-align: middle;\n",
       "    }\n",
       "\n",
       "    .dataframe tbody tr th {\n",
       "        vertical-align: top;\n",
       "    }\n",
       "\n",
       "    .dataframe thead th {\n",
       "        text-align: right;\n",
       "    }\n",
       "</style>\n",
       "<table border=\"1\" class=\"dataframe\">\n",
       "  <thead>\n",
       "    <tr style=\"text-align: right;\">\n",
       "      <th></th>\n",
       "      <th>course_id</th>\n",
       "      <th>minutes_watched</th>\n",
       "      <th>date_watched</th>\n",
       "      <th>student_country</th>\n",
       "      <th>date_registered</th>\n",
       "      <th>course_rating</th>\n",
       "      <th>date_rated</th>\n",
       "    </tr>\n",
       "  </thead>\n",
       "  <tbody>\n",
       "    <tr>\n",
       "      <th>0</th>\n",
       "      <td>7</td>\n",
       "      <td>10.4</td>\n",
       "      <td>2022-02-17</td>\n",
       "      <td>EG</td>\n",
       "      <td>2022-02-16</td>\n",
       "      <td>5.0</td>\n",
       "      <td>2022-02-16</td>\n",
       "    </tr>\n",
       "    <tr>\n",
       "      <th>1</th>\n",
       "      <td>36</td>\n",
       "      <td>0.2</td>\n",
       "      <td>2022-05-03</td>\n",
       "      <td>US</td>\n",
       "      <td>2022-05-03</td>\n",
       "      <td>5.0</td>\n",
       "      <td>2022-05-03</td>\n",
       "    </tr>\n",
       "    <tr>\n",
       "      <th>2</th>\n",
       "      <td>7</td>\n",
       "      <td>10.0</td>\n",
       "      <td>2022-03-15</td>\n",
       "      <td>US</td>\n",
       "      <td>2022-03-15</td>\n",
       "      <td>5.0</td>\n",
       "      <td>2022-03-15</td>\n",
       "    </tr>\n",
       "    <tr>\n",
       "      <th>3</th>\n",
       "      <td>23</td>\n",
       "      <td>36.7</td>\n",
       "      <td>2022-08-27</td>\n",
       "      <td>EG</td>\n",
       "      <td>2022-07-05</td>\n",
       "      <td>5.0</td>\n",
       "      <td>2022-08-31</td>\n",
       "    </tr>\n",
       "    <tr>\n",
       "      <th>4</th>\n",
       "      <td>35</td>\n",
       "      <td>10.8</td>\n",
       "      <td>2022-09-17</td>\n",
       "      <td>ID</td>\n",
       "      <td>2022-08-07</td>\n",
       "      <td>5.0</td>\n",
       "      <td>2022-09-18</td>\n",
       "    </tr>\n",
       "  </tbody>\n",
       "</table>\n",
       "</div>"
      ],
      "text/plain": [
       "  course_id minutes_watched date_watched student_country date_registered  \\\n",
       "0         7            10.4   2022-02-17              EG      2022-02-16   \n",
       "1        36             0.2   2022-05-03              US      2022-05-03   \n",
       "2         7            10.0   2022-03-15              US      2022-03-15   \n",
       "3        23            36.7   2022-08-27              EG      2022-07-05   \n",
       "4        35            10.8   2022-09-17              ID      2022-08-07   \n",
       "\n",
       "  course_rating  date_rated  \n",
       "0           5.0  2022-02-16  \n",
       "1           5.0  2022-05-03  \n",
       "2           5.0  2022-03-15  \n",
       "3           5.0  2022-08-31  \n",
       "4           5.0  2022-09-18  "
      ]
     },
     "execution_count": 29,
     "metadata": {},
     "output_type": "execute_result"
    }
   ],
   "source": [
    "x_train.head()"
   ]
  },
  {
   "cell_type": "code",
   "execution_count": 30,
   "id": "1401bb06",
   "metadata": {},
   "outputs": [],
   "source": [
    "#Converte date_registered, date_watched,date_purchased to date time\n",
    "cols = ['date_registered', 'date_watched', 'date_rated']\n",
    "for i in cols:\n",
    "    x_train[i] = pd.to_datetime(x_train[i])\n",
    "    x_test[i] = pd.to_datetime(x_test[i])"
   ]
  },
  {
   "cell_type": "code",
   "execution_count": 31,
   "id": "eba314a2",
   "metadata": {},
   "outputs": [
    {
     "data": {
      "text/plain": [
       "course_id          0\n",
       "minutes_watched    0\n",
       "date_watched       0\n",
       "student_country    0\n",
       "date_registered    0\n",
       "course_rating      0\n",
       "date_rated         0\n",
       "dtype: int64"
      ]
     },
     "execution_count": 31,
     "metadata": {},
     "output_type": "execute_result"
    }
   ],
   "source": [
    "x_train.isna().sum()"
   ]
  },
  {
   "cell_type": "markdown",
   "id": "73f2cb58",
   "metadata": {},
   "source": [
    "## Feature Engineering "
   ]
  },
  {
   "cell_type": "markdown",
   "id": "8b032dd1",
   "metadata": {},
   "source": [
    "<p> I will create a column that will group the time between the date of recording and the date of viewing the course, \n",
    "technically  (date_registered - date_watched) </p>"
   ]
  },
  {
   "cell_type": "code",
   "execution_count": 32,
   "id": "e6cc2689",
   "metadata": {},
   "outputs": [],
   "source": [
    "x_train['period'] = x_train['date_watched'] - x_train['date_registered']\n",
    "x_test['period'] = x_test['date_watched'] - x_test['date_registered']\n",
    "\n",
    "\n",
    "x_train['period_bf_rating'] = x_train['date_rated'] - x_train['date_watched']\n",
    "x_test['period_bf_rating']  = x_test['date_rated'] - x_test['date_watched']\n"
   ]
  },
  {
   "cell_type": "code",
   "execution_count": 33,
   "id": "7c66fee0",
   "metadata": {},
   "outputs": [
    {
     "data": {
      "text/html": [
       "<div>\n",
       "<style scoped>\n",
       "    .dataframe tbody tr th:only-of-type {\n",
       "        vertical-align: middle;\n",
       "    }\n",
       "\n",
       "    .dataframe tbody tr th {\n",
       "        vertical-align: top;\n",
       "    }\n",
       "\n",
       "    .dataframe thead th {\n",
       "        text-align: right;\n",
       "    }\n",
       "</style>\n",
       "<table border=\"1\" class=\"dataframe\">\n",
       "  <thead>\n",
       "    <tr style=\"text-align: right;\">\n",
       "      <th></th>\n",
       "      <th>course_id</th>\n",
       "      <th>minutes_watched</th>\n",
       "      <th>date_watched</th>\n",
       "      <th>student_country</th>\n",
       "      <th>date_registered</th>\n",
       "      <th>course_rating</th>\n",
       "      <th>date_rated</th>\n",
       "      <th>period</th>\n",
       "      <th>period_bf_rating</th>\n",
       "    </tr>\n",
       "  </thead>\n",
       "  <tbody>\n",
       "    <tr>\n",
       "      <th>0</th>\n",
       "      <td>7</td>\n",
       "      <td>10.4</td>\n",
       "      <td>2022-02-17</td>\n",
       "      <td>EG</td>\n",
       "      <td>2022-02-16</td>\n",
       "      <td>5.0</td>\n",
       "      <td>2022-02-16</td>\n",
       "      <td>1 days</td>\n",
       "      <td>-1 days</td>\n",
       "    </tr>\n",
       "    <tr>\n",
       "      <th>1</th>\n",
       "      <td>36</td>\n",
       "      <td>0.2</td>\n",
       "      <td>2022-05-03</td>\n",
       "      <td>US</td>\n",
       "      <td>2022-05-03</td>\n",
       "      <td>5.0</td>\n",
       "      <td>2022-05-03</td>\n",
       "      <td>0 days</td>\n",
       "      <td>0 days</td>\n",
       "    </tr>\n",
       "    <tr>\n",
       "      <th>2</th>\n",
       "      <td>7</td>\n",
       "      <td>10.0</td>\n",
       "      <td>2022-03-15</td>\n",
       "      <td>US</td>\n",
       "      <td>2022-03-15</td>\n",
       "      <td>5.0</td>\n",
       "      <td>2022-03-15</td>\n",
       "      <td>0 days</td>\n",
       "      <td>0 days</td>\n",
       "    </tr>\n",
       "    <tr>\n",
       "      <th>3</th>\n",
       "      <td>23</td>\n",
       "      <td>36.7</td>\n",
       "      <td>2022-08-27</td>\n",
       "      <td>EG</td>\n",
       "      <td>2022-07-05</td>\n",
       "      <td>5.0</td>\n",
       "      <td>2022-08-31</td>\n",
       "      <td>53 days</td>\n",
       "      <td>4 days</td>\n",
       "    </tr>\n",
       "    <tr>\n",
       "      <th>4</th>\n",
       "      <td>35</td>\n",
       "      <td>10.8</td>\n",
       "      <td>2022-09-17</td>\n",
       "      <td>ID</td>\n",
       "      <td>2022-08-07</td>\n",
       "      <td>5.0</td>\n",
       "      <td>2022-09-18</td>\n",
       "      <td>41 days</td>\n",
       "      <td>1 days</td>\n",
       "    </tr>\n",
       "  </tbody>\n",
       "</table>\n",
       "</div>"
      ],
      "text/plain": [
       "  course_id minutes_watched date_watched student_country date_registered  \\\n",
       "0         7            10.4   2022-02-17              EG      2022-02-16   \n",
       "1        36             0.2   2022-05-03              US      2022-05-03   \n",
       "2         7            10.0   2022-03-15              US      2022-03-15   \n",
       "3        23            36.7   2022-08-27              EG      2022-07-05   \n",
       "4        35            10.8   2022-09-17              ID      2022-08-07   \n",
       "\n",
       "  course_rating date_rated  period period_bf_rating  \n",
       "0           5.0 2022-02-16  1 days          -1 days  \n",
       "1           5.0 2022-05-03  0 days           0 days  \n",
       "2           5.0 2022-03-15  0 days           0 days  \n",
       "3           5.0 2022-08-31 53 days           4 days  \n",
       "4           5.0 2022-09-18 41 days           1 days  "
      ]
     },
     "execution_count": 33,
     "metadata": {},
     "output_type": "execute_result"
    }
   ],
   "source": [
    "x_train.head()"
   ]
  },
  {
   "cell_type": "code",
   "execution_count": 34,
   "id": "08082dd9",
   "metadata": {},
   "outputs": [
    {
     "data": {
      "text/plain": [
       "course_id           0\n",
       "minutes_watched     0\n",
       "date_watched        0\n",
       "student_country     0\n",
       "date_registered     0\n",
       "course_rating       0\n",
       "date_rated          0\n",
       "period              0\n",
       "period_bf_rating    0\n",
       "dtype: int64"
      ]
     },
     "execution_count": 34,
     "metadata": {},
     "output_type": "execute_result"
    }
   ],
   "source": [
    "x_train.isnull().sum()"
   ]
  },
  {
   "cell_type": "markdown",
   "id": "e446f4c9",
   "metadata": {},
   "source": [
    "## Encodage"
   ]
  },
  {
   "cell_type": "code",
   "execution_count": 35,
   "id": "faeaf57c",
   "metadata": {},
   "outputs": [],
   "source": [
    "# We are good now, we can build and evaluate our models"
   ]
  },
  {
   "cell_type": "code",
   "execution_count": 36,
   "id": "916de12b",
   "metadata": {},
   "outputs": [],
   "source": [
    "encoder  = OrdinalEncoder()\n",
    "\n",
    "label = ['student_country']\n",
    "\n",
    "x_train[label] = encoder.fit_transform(x_train[label])\n",
    "\n",
    "x_test[label] = encoder.transform(x_test[label])\n"
   ]
  },
  {
   "cell_type": "code",
   "execution_count": 37,
   "id": "2cc745fe",
   "metadata": {},
   "outputs": [],
   "source": [
    "# drop date times columns"
   ]
  },
  {
   "cell_type": "code",
   "execution_count": 38,
   "id": "09d4d426",
   "metadata": {},
   "outputs": [],
   "source": [
    "x_train.drop(columns=['date_registered', 'date_rated', 'date_watched'], inplace=True)\n",
    "x_test.drop(columns=['date_registered', 'date_rated', 'date_watched'], inplace=True)\n",
    "\n",
    "#\n",
    "x_train = x_train.astype({'course_id': 'int64','minutes_watched': 'int64', 'course_rating': 'int64', 'period': 'str', 'period_bf_rating': 'str'})\n",
    "x_test  = x_test.astype({'course_id': 'int64','minutes_watched': 'int64', 'course_rating': 'int64', 'period': 'str', 'period_bf_rating': 'str'})\n",
    "\n",
    "#\n",
    "x_train['period'] = np.abs((x_train['period'].apply(lambda x : x.split(' ')[0])).astype('int64'))\n",
    "x_test['period'] = np.abs((x_test['period'].apply(lambda x : x.split(' ')[0])).astype('int64'))\n",
    "\n",
    "#\n",
    "x_train['period_bf_rating'] = np.abs((x_train['period_bf_rating'].apply(lambda x : x.split(' ')[0])).astype('int64'))\n",
    "x_test['period_bf_rating'] = np.abs((x_test['period_bf_rating'].apply(lambda x : x.split(' ')[0])).astype('int64'))"
   ]
  },
  {
   "cell_type": "markdown",
   "id": "28d2c260",
   "metadata": {},
   "source": [
    "## Feature Scaling"
   ]
  },
  {
   "cell_type": "code",
   "execution_count": null,
   "id": "74d81a83",
   "metadata": {},
   "outputs": [],
   "source": []
  },
  {
   "cell_type": "markdown",
   "id": "6a722912",
   "metadata": {},
   "source": [
    "## Model building"
   ]
  },
  {
   "cell_type": "code",
   "execution_count": 39,
   "id": "2ffdce74",
   "metadata": {},
   "outputs": [],
   "source": [
    "model = SVC()"
   ]
  },
  {
   "cell_type": "code",
   "execution_count": 40,
   "id": "ca99f41f",
   "metadata": {},
   "outputs": [
    {
     "data": {
      "text/html": [
       "<style>#sk-container-id-1 {color: black;background-color: white;}#sk-container-id-1 pre{padding: 0;}#sk-container-id-1 div.sk-toggleable {background-color: white;}#sk-container-id-1 label.sk-toggleable__label {cursor: pointer;display: block;width: 100%;margin-bottom: 0;padding: 0.3em;box-sizing: border-box;text-align: center;}#sk-container-id-1 label.sk-toggleable__label-arrow:before {content: \"▸\";float: left;margin-right: 0.25em;color: #696969;}#sk-container-id-1 label.sk-toggleable__label-arrow:hover:before {color: black;}#sk-container-id-1 div.sk-estimator:hover label.sk-toggleable__label-arrow:before {color: black;}#sk-container-id-1 div.sk-toggleable__content {max-height: 0;max-width: 0;overflow: hidden;text-align: left;background-color: #f0f8ff;}#sk-container-id-1 div.sk-toggleable__content pre {margin: 0.2em;color: black;border-radius: 0.25em;background-color: #f0f8ff;}#sk-container-id-1 input.sk-toggleable__control:checked~div.sk-toggleable__content {max-height: 200px;max-width: 100%;overflow: auto;}#sk-container-id-1 input.sk-toggleable__control:checked~label.sk-toggleable__label-arrow:before {content: \"▾\";}#sk-container-id-1 div.sk-estimator input.sk-toggleable__control:checked~label.sk-toggleable__label {background-color: #d4ebff;}#sk-container-id-1 div.sk-label input.sk-toggleable__control:checked~label.sk-toggleable__label {background-color: #d4ebff;}#sk-container-id-1 input.sk-hidden--visually {border: 0;clip: rect(1px 1px 1px 1px);clip: rect(1px, 1px, 1px, 1px);height: 1px;margin: -1px;overflow: hidden;padding: 0;position: absolute;width: 1px;}#sk-container-id-1 div.sk-estimator {font-family: monospace;background-color: #f0f8ff;border: 1px dotted black;border-radius: 0.25em;box-sizing: border-box;margin-bottom: 0.5em;}#sk-container-id-1 div.sk-estimator:hover {background-color: #d4ebff;}#sk-container-id-1 div.sk-parallel-item::after {content: \"\";width: 100%;border-bottom: 1px solid gray;flex-grow: 1;}#sk-container-id-1 div.sk-label:hover label.sk-toggleable__label {background-color: #d4ebff;}#sk-container-id-1 div.sk-serial::before {content: \"\";position: absolute;border-left: 1px solid gray;box-sizing: border-box;top: 0;bottom: 0;left: 50%;z-index: 0;}#sk-container-id-1 div.sk-serial {display: flex;flex-direction: column;align-items: center;background-color: white;padding-right: 0.2em;padding-left: 0.2em;position: relative;}#sk-container-id-1 div.sk-item {position: relative;z-index: 1;}#sk-container-id-1 div.sk-parallel {display: flex;align-items: stretch;justify-content: center;background-color: white;position: relative;}#sk-container-id-1 div.sk-item::before, #sk-container-id-1 div.sk-parallel-item::before {content: \"\";position: absolute;border-left: 1px solid gray;box-sizing: border-box;top: 0;bottom: 0;left: 50%;z-index: -1;}#sk-container-id-1 div.sk-parallel-item {display: flex;flex-direction: column;z-index: 1;position: relative;background-color: white;}#sk-container-id-1 div.sk-parallel-item:first-child::after {align-self: flex-end;width: 50%;}#sk-container-id-1 div.sk-parallel-item:last-child::after {align-self: flex-start;width: 50%;}#sk-container-id-1 div.sk-parallel-item:only-child::after {width: 0;}#sk-container-id-1 div.sk-dashed-wrapped {border: 1px dashed gray;margin: 0 0.4em 0.5em 0.4em;box-sizing: border-box;padding-bottom: 0.4em;background-color: white;}#sk-container-id-1 div.sk-label label {font-family: monospace;font-weight: bold;display: inline-block;line-height: 1.2em;}#sk-container-id-1 div.sk-label-container {text-align: center;}#sk-container-id-1 div.sk-container {/* jupyter's `normalize.less` sets `[hidden] { display: none; }` but bootstrap.min.css set `[hidden] { display: none !important; }` so we also need the `!important` here to be able to override the default hidden behavior on the sphinx rendered scikit-learn.org. See: https://github.com/scikit-learn/scikit-learn/issues/21755 */display: inline-block !important;position: relative;}#sk-container-id-1 div.sk-text-repr-fallback {display: none;}</style><div id=\"sk-container-id-1\" class=\"sk-top-container\"><div class=\"sk-text-repr-fallback\"><pre>SVC()</pre><b>In a Jupyter environment, please rerun this cell to show the HTML representation or trust the notebook. <br />On GitHub, the HTML representation is unable to render, please try loading this page with nbviewer.org.</b></div><div class=\"sk-container\" hidden><div class=\"sk-item\"><div class=\"sk-estimator sk-toggleable\"><input class=\"sk-toggleable__control sk-hidden--visually\" id=\"sk-estimator-id-1\" type=\"checkbox\" checked><label for=\"sk-estimator-id-1\" class=\"sk-toggleable__label sk-toggleable__label-arrow\">SVC</label><div class=\"sk-toggleable__content\"><pre>SVC()</pre></div></div></div></div></div>"
      ],
      "text/plain": [
       "SVC()"
      ]
     },
     "execution_count": 40,
     "metadata": {},
     "output_type": "execute_result"
    }
   ],
   "source": [
    "model.fit(x_train, y_train)"
   ]
  },
  {
   "cell_type": "code",
   "execution_count": 41,
   "id": "aaca4d2f",
   "metadata": {},
   "outputs": [],
   "source": [
    "y_predict = model.predict(x_test)"
   ]
  },
  {
   "cell_type": "code",
   "execution_count": 42,
   "id": "4f12c427",
   "metadata": {},
   "outputs": [
    {
     "data": {
      "text/plain": [
       "(17482,)"
      ]
     },
     "execution_count": 42,
     "metadata": {},
     "output_type": "execute_result"
    }
   ],
   "source": [
    "y_predict.shape"
   ]
  },
  {
   "cell_type": "code",
   "execution_count": 43,
   "id": "fab715f1",
   "metadata": {},
   "outputs": [
    {
     "data": {
      "text/plain": [
       "0.7167944171147466"
      ]
     },
     "execution_count": 43,
     "metadata": {},
     "output_type": "execute_result"
    }
   ],
   "source": [
    "accuracy_score(y_test, y_predict)"
   ]
  },
  {
   "cell_type": "code",
   "execution_count": 44,
   "id": "1ed3d463",
   "metadata": {},
   "outputs": [
    {
     "ename": "SyntaxError",
     "evalue": "invalid syntax (614300116.py, line 1)",
     "output_type": "error",
     "traceback": [
      "\u001b[1;36m  Input \u001b[1;32mIn [44]\u001b[1;36m\u001b[0m\n\u001b[1;33m    .shape\u001b[0m\n\u001b[1;37m    ^\u001b[0m\n\u001b[1;31mSyntaxError\u001b[0m\u001b[1;31m:\u001b[0m invalid syntax\n"
     ]
    }
   ],
   "source": [
    " .shape"
   ]
  },
  {
   "cell_type": "code",
   "execution_count": null,
   "id": "c149ed60",
   "metadata": {},
   "outputs": [],
   "source": []
  }
 ],
 "metadata": {
  "kernelspec": {
   "display_name": "Python 3.8.13 ('ds')",
   "language": "python",
   "name": "python3"
  },
  "language_info": {
   "codemirror_mode": {
    "name": "ipython",
    "version": 3
   },
   "file_extension": ".py",
   "mimetype": "text/x-python",
   "name": "python",
   "nbconvert_exporter": "python",
   "pygments_lexer": "ipython3",
   "version": "3.8.13"
  },
  "vscode": {
   "interpreter": {
    "hash": "38e24c059c8db3a42d6a0fd5eddbba5c02bd5dd69d6ad23c9673ebcf0446ce09"
   }
  }
 },
 "nbformat": 4,
 "nbformat_minor": 5
}
